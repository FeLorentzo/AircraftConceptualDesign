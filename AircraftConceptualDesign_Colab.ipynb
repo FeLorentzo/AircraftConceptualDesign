{
  "cells": [
    {
      "cell_type": "code",
      "execution_count": 191,
      "metadata": {
        "colab": {
          "base_uri": "https://localhost:8080/"
        },
        "id": "U6z0m_IQGBay",
        "outputId": "49c74bbd-5412-4bc2-81b8-e5c87a345acd"
      },
      "outputs": [],
      "source": [
        "import numpy as np\n",
        "from ambiance import Atmosphere\n",
        "import json\n",
        "import matplotlib.pyplot as plt\n",
        "import pandas as pd"
      ]
    },
    {
      "cell_type": "code",
      "execution_count": 192,
      "metadata": {
        "id": "UbXKQwxqGcqQ"
      },
      "outputs": [],
      "source": [
        "class units_class:\n",
        "    def __init__():\n",
        "        return\n",
        "\n",
        "    def ft2m(ft):\n",
        "        return 0.3048 * ft\n",
        "\n",
        "\n",
        "    def lbf2n(lbf):\n",
        "        return 4.4482 * lbf\n",
        "\n",
        "\n",
        "    def lbm2kg(lbm):\n",
        "        return 0.4536 * lbm\n",
        "\n",
        "\n",
        "    def mi2m(mi):\n",
        "        return  1609 * mi\n",
        "    \n",
        "    def nautical_miles2m(nm):\n",
        "        return 1852 * nm\n",
        "\n",
        "\n",
        "    def in2m(inches):\n",
        "        return 0.0254 * inches\n",
        "\n",
        "\n",
        "    def knot2ms(knot):\n",
        "        return 0.514 * knot\n",
        "\n",
        "\n",
        "    def kgf2n(kgf):\n",
        "        return 9.807 * kgf\n",
        "\n",
        "\n",
        "    def slug2kg(slug):\n",
        "        return 14.5939 * slug\n",
        "\n",
        "\n",
        "    def knot2fts(knot):\n",
        "        return 1.47 * knot\n",
        "\n",
        "\n",
        "    def psi2Pa(psi):\n",
        "        return 6894.76 * psi\n",
        "\n",
        "    def hp2Watt(hp):\n",
        "        return 745.69 * hp"
      ]
    },
    {
      "cell_type": "markdown",
      "metadata": {
        "id": "DoLwnolFGBa2"
      },
      "source": [
        "## Definções basicas do projeto\n",
        "\n",
        "Para a aeronave desenvolvida será usada  como  base de dimensionamento a velocidade de cruzeiro, com missão principal sendo a long range ferry, com desvio para a alternativa.\n",
        "\n",
        "https://docs.google.com/presentation/d/13Bx6JYLn4xWmHGJNFM41O5MWNgtxeQgXbuCpnetwMNY/edit?usp=sharing"
      ]
    },
    {
      "cell_type": "code",
      "execution_count": 193,
      "metadata": {
        "id": "_2YW63uvm0aM"
      },
      "outputs": [],
      "source": [
        "units = units_class\n",
        "\n",
        "aircraft = {\n",
        "   'definitions': {\n",
        "  'MTOW': units.lbm2kg(19000), # Kg, assuming MTOW given by FAR23\n",
        "  'V_cruise': units.knot2ms(230), # m/s, assuming CAS\n",
        "  'W_empty/W': 0.6, # from database\n",
        "  'W_crew': 200, # 2 pilots\n",
        "  'operational ceiling': units.ft2m(25000),\n",
        "   },\n",
        "  'engine': {\n",
        "    'power': units.hp2Watt(1600),\n",
        "    'number_of_engines': 2,\n",
        "    },\n",
        "  'wing': {},\n",
        "  'ht': {},\n",
        "  'vt': {},\n",
        "  'fus': {},\n",
        "  'landing gear': {\n",
        "    'retractable': True,\n",
        "    'height': 2.1, # Chutado\n",
        "    },\n",
        "}"
      ]
    },
    {
      "cell_type": "markdown",
      "metadata": {},
      "source": [
        "# Levantamento do DataBase"
      ]
    },
    {
      "cell_type": "code",
      "execution_count": 194,
      "metadata": {},
      "outputs": [
        {
          "data": {
            "text/html": [
              "<div>\n",
              "<style scoped>\n",
              "    .dataframe tbody tr th:only-of-type {\n",
              "        vertical-align: middle;\n",
              "    }\n",
              "\n",
              "    .dataframe tbody tr th {\n",
              "        vertical-align: top;\n",
              "    }\n",
              "\n",
              "    .dataframe thead th {\n",
              "        text-align: right;\n",
              "    }\n",
              "</style>\n",
              "<table border=\"1\" class=\"dataframe\">\n",
              "  <thead>\n",
              "    <tr style=\"text-align: right;\">\n",
              "      <th></th>\n",
              "      <th>Aeronave</th>\n",
              "      <th>Origem</th>\n",
              "      <th>Ano</th>\n",
              "      <th>Categoria</th>\n",
              "      <th>Ocupante</th>\n",
              "      <th>PesoT (kg)</th>\n",
              "      <th>PesoV (kg)</th>\n",
              "      <th>PesoV/PesoT</th>\n",
              "      <th>PesoF (kg)</th>\n",
              "      <th>Peso CP (kg)</th>\n",
              "      <th>...</th>\n",
              "      <th>Climb ( ft/min)</th>\n",
              "      <th>Dist decol (m)</th>\n",
              "      <th>Dist aterra (m)</th>\n",
              "      <th>Teto max (ft)</th>\n",
              "      <th>Afilamento \\r\\n(c_tip / c_root)</th>\n",
              "      <th>Perfil</th>\n",
              "      <th>Motor</th>\n",
              "      <th>Diedro</th>\n",
              "      <th>tipo trem</th>\n",
              "      <th>Incidencia</th>\n",
              "    </tr>\n",
              "  </thead>\n",
              "  <tbody>\n",
              "    <tr>\n",
              "      <th>0</th>\n",
              "      <td>Antonov An-2</td>\n",
              "      <td>URSS</td>\n",
              "      <td>1947</td>\n",
              "      <td>Transporte</td>\n",
              "      <td>14</td>\n",
              "      <td>5.500.00</td>\n",
              "      <td>3.300.00</td>\n",
              "      <td>0.60</td>\n",
              "      <td>948.19</td>\n",
              "      <td>1.251.81</td>\n",
              "      <td>...</td>\n",
              "      <td>690.00</td>\n",
              "      <td>487.68</td>\n",
              "      <td>426.72</td>\n",
              "      <td>14750.0</td>\n",
              "      <td>0.00</td>\n",
              "      <td>TsAGI R-11</td>\n",
              "      <td>Shvetsov ASh-62IR</td>\n",
              "      <td>12º</td>\n",
              "      <td>Convencional</td>\n",
              "      <td>0.473684</td>\n",
              "    </tr>\n",
              "    <tr>\n",
              "      <th>1</th>\n",
              "      <td>Cessna 408 SkyCourier</td>\n",
              "      <td>USA</td>\n",
              "      <td>2022</td>\n",
              "      <td>Utilitário</td>\n",
              "      <td>20</td>\n",
              "      <td>8.600.00</td>\n",
              "      <td>4.990.00</td>\n",
              "      <td>0.58</td>\n",
              "      <td>2.139.04</td>\n",
              "      <td>1.470.96</td>\n",
              "      <td>...</td>\n",
              "      <td>-</td>\n",
              "      <td>1.116.00</td>\n",
              "      <td>-</td>\n",
              "      <td>25000.0</td>\n",
              "      <td>-</td>\n",
              "      <td>-</td>\n",
              "      <td>Pratt &amp; Whitney Canada PT6A-65SC</td>\n",
              "      <td>NaN</td>\n",
              "      <td>Triciclo</td>\n",
              "      <td>0.577358</td>\n",
              "    </tr>\n",
              "    <tr>\n",
              "      <th>2</th>\n",
              "      <td>DHC-6 Twin Otter 400</td>\n",
              "      <td>USA</td>\n",
              "      <td>1996</td>\n",
              "      <td>Utilitário</td>\n",
              "      <td>20</td>\n",
              "      <td>5.670.00</td>\n",
              "      <td>3.221.00</td>\n",
              "      <td>0.57</td>\n",
              "      <td>1.087.99</td>\n",
              "      <td>1.361.01</td>\n",
              "      <td>...</td>\n",
              "      <td>-</td>\n",
              "      <td>366.00</td>\n",
              "      <td>320.00</td>\n",
              "      <td>25000.0</td>\n",
              "      <td>-</td>\n",
              "      <td>-</td>\n",
              "      <td>Pratt &amp; Whitney Canada PT6A-34</td>\n",
              "      <td>NaN</td>\n",
              "      <td>Triciclo</td>\n",
              "      <td>0.438797</td>\n",
              "    </tr>\n",
              "    <tr>\n",
              "      <th>3</th>\n",
              "      <td>Harbin Y-12</td>\n",
              "      <td>China</td>\n",
              "      <td>1986</td>\n",
              "      <td>Transporte</td>\n",
              "      <td>19</td>\n",
              "      <td>5.300.00</td>\n",
              "      <td>2.840.00</td>\n",
              "      <td>0.54</td>\n",
              "      <td>1.308.62</td>\n",
              "      <td>1.151.38</td>\n",
              "      <td>...</td>\n",
              "      <td>-</td>\n",
              "      <td>-</td>\n",
              "      <td>-</td>\n",
              "      <td>23000.0</td>\n",
              "      <td>-</td>\n",
              "      <td>-</td>\n",
              "      <td>Pratt &amp; Whitney Canada PT6A-27</td>\n",
              "      <td>NaN</td>\n",
              "      <td>Triciclo</td>\n",
              "      <td>0.480480</td>\n",
              "    </tr>\n",
              "    <tr>\n",
              "      <th>4</th>\n",
              "      <td>Basler BT-67</td>\n",
              "      <td>USA</td>\n",
              "      <td>1990</td>\n",
              "      <td>Utilitário</td>\n",
              "      <td>40</td>\n",
              "      <td>13.041.00</td>\n",
              "      <td>7.121.00</td>\n",
              "      <td>0.55</td>\n",
              "      <td>2.346.16</td>\n",
              "      <td>3.573.84</td>\n",
              "      <td>...</td>\n",
              "      <td>-</td>\n",
              "      <td>-</td>\n",
              "      <td>-</td>\n",
              "      <td>25000.0</td>\n",
              "      <td>0.43</td>\n",
              "      <td>-</td>\n",
              "      <td>Pratt &amp; Whitney Canada PT6A-67R</td>\n",
              "      <td>7°</td>\n",
              "      <td>Convencional</td>\n",
              "      <td>0.201550</td>\n",
              "    </tr>\n",
              "    <tr>\n",
              "      <th>5</th>\n",
              "      <td>Beechcraft 1900D</td>\n",
              "      <td>USA</td>\n",
              "      <td>1982</td>\n",
              "      <td>Regional</td>\n",
              "      <td>18</td>\n",
              "      <td>7.688.00</td>\n",
              "      <td>4.831.00</td>\n",
              "      <td>0.63</td>\n",
              "      <td>2.022.00</td>\n",
              "      <td>835.00</td>\n",
              "      <td>...</td>\n",
              "      <td>2.615.00</td>\n",
              "      <td>1.132.00</td>\n",
              "      <td>1.086.00</td>\n",
              "      <td>25000.0</td>\n",
              "      <td>-</td>\n",
              "      <td>-</td>\n",
              "      <td>Pratt &amp; Whitney Canada PT6A-67D turboprops</td>\n",
              "      <td>NaN</td>\n",
              "      <td>Triciclo</td>\n",
              "      <td>0.225000</td>\n",
              "    </tr>\n",
              "    <tr>\n",
              "      <th>6</th>\n",
              "      <td>CASA C-212 Aviocar</td>\n",
              "      <td>Espanha</td>\n",
              "      <td>1971</td>\n",
              "      <td>Utilitário</td>\n",
              "      <td>26</td>\n",
              "      <td>7.700.00</td>\n",
              "      <td>3.780.00</td>\n",
              "      <td>0.49</td>\n",
              "      <td>1.600.00</td>\n",
              "      <td>2.320.00</td>\n",
              "      <td>...</td>\n",
              "      <td>1.630.00</td>\n",
              "      <td>610.00</td>\n",
              "      <td>462.00</td>\n",
              "      <td>26000.0</td>\n",
              "      <td>-</td>\n",
              "      <td>NACA 65_3218</td>\n",
              "      <td>Garrett AiResearch TPE331-10R-513C turboprop e...</td>\n",
              "      <td>NaN</td>\n",
              "      <td>Triciclo</td>\n",
              "      <td>0.467693</td>\n",
              "    </tr>\n",
              "    <tr>\n",
              "      <th>7</th>\n",
              "      <td>Cessna Caravan</td>\n",
              "      <td>USA</td>\n",
              "      <td>1982</td>\n",
              "      <td>Utilitário. executivo e transporte regional</td>\n",
              "      <td>14</td>\n",
              "      <td>3.867.00</td>\n",
              "      <td>2.073.00</td>\n",
              "      <td>0.54</td>\n",
              "      <td>960.00</td>\n",
              "      <td>834.00</td>\n",
              "      <td>...</td>\n",
              "      <td>1.234.00</td>\n",
              "      <td>626.00</td>\n",
              "      <td>495.00</td>\n",
              "      <td>25000.0</td>\n",
              "      <td>0.64</td>\n",
              "      <td>-</td>\n",
              "      <td>Pratt &amp; Whitney Canada PT6A-114A</td>\n",
              "      <td>0</td>\n",
              "      <td>Triciclo</td>\n",
              "      <td>0.072508</td>\n",
              "    </tr>\n",
              "    <tr>\n",
              "      <th>8</th>\n",
              "      <td>DHC-2 Beaver</td>\n",
              "      <td>Canadá</td>\n",
              "      <td>1947</td>\n",
              "      <td>Utilitário</td>\n",
              "      <td>6</td>\n",
              "      <td>2.721.00</td>\n",
              "      <td>1.359.00</td>\n",
              "      <td>0.50</td>\n",
              "      <td>545.00</td>\n",
              "      <td>817.00</td>\n",
              "      <td>...</td>\n",
              "      <td>1.020.00</td>\n",
              "      <td>-</td>\n",
              "      <td>-</td>\n",
              "      <td>18000.0</td>\n",
              "      <td>-</td>\n",
              "      <td>D.H. high lift</td>\n",
              "      <td>Pratt &amp; Whitney R-985</td>\n",
              "      <td>NaN</td>\n",
              "      <td>Convencional</td>\n",
              "      <td>0.533683</td>\n",
              "    </tr>\n",
              "    <tr>\n",
              "      <th>9</th>\n",
              "      <td>Dornier 228</td>\n",
              "      <td>Alemanha</td>\n",
              "      <td>1982</td>\n",
              "      <td>Utilitário</td>\n",
              "      <td>19</td>\n",
              "      <td>6.575.00</td>\n",
              "      <td>3.900.00</td>\n",
              "      <td>0.59</td>\n",
              "      <td>1.885.00</td>\n",
              "      <td>790.00</td>\n",
              "      <td>...</td>\n",
              "      <td>-</td>\n",
              "      <td>792.00</td>\n",
              "      <td>-</td>\n",
              "      <td>25000.0</td>\n",
              "      <td>-</td>\n",
              "      <td>-</td>\n",
              "      <td>https://en.wikipedia.org/wiki/Honeywell_TPE331</td>\n",
              "      <td>NaN</td>\n",
              "      <td>Triciclo</td>\n",
              "      <td>0.327237</td>\n",
              "    </tr>\n",
              "    <tr>\n",
              "      <th>10</th>\n",
              "      <td>Douglas C-47 Skytrain</td>\n",
              "      <td>USA</td>\n",
              "      <td>1941</td>\n",
              "      <td>Transporte militar</td>\n",
              "      <td>4</td>\n",
              "      <td>14.061.00</td>\n",
              "      <td>8.226.00</td>\n",
              "      <td>0.59</td>\n",
              "      <td>-</td>\n",
              "      <td>-</td>\n",
              "      <td>...</td>\n",
              "      <td>-</td>\n",
              "      <td>-</td>\n",
              "      <td>-</td>\n",
              "      <td>NaN</td>\n",
              "      <td>-</td>\n",
              "      <td>NACA2215 raiz\\r\\nNACA2206 ponta</td>\n",
              "      <td>Pratt &amp; Whitney R-1830-90C Twin Wasp</td>\n",
              "      <td>NaN</td>\n",
              "      <td>Convencional</td>\n",
              "      <td>0.363295</td>\n",
              "    </tr>\n",
              "    <tr>\n",
              "      <th>11</th>\n",
              "      <td>Embraer EMB 110 Bandeirante</td>\n",
              "      <td>Brasil</td>\n",
              "      <td>1968</td>\n",
              "      <td>Regional</td>\n",
              "      <td>21</td>\n",
              "      <td>5.670.00</td>\n",
              "      <td>3.590.00</td>\n",
              "      <td>0.63</td>\n",
              "      <td>1.272.00</td>\n",
              "      <td>808.00</td>\n",
              "      <td>...</td>\n",
              "      <td>-</td>\n",
              "      <td>-</td>\n",
              "      <td>-</td>\n",
              "      <td>27100.0</td>\n",
              "      <td>-</td>\n",
              "      <td>-</td>\n",
              "      <td>Pratt &amp; Whitney Canada PT6A-34</td>\n",
              "      <td>NaN</td>\n",
              "      <td>Triciclo</td>\n",
              "      <td>0.362334</td>\n",
              "    </tr>\n",
              "    <tr>\n",
              "      <th>12</th>\n",
              "      <td>Fairchild Swearingen Metroliner</td>\n",
              "      <td>EUA</td>\n",
              "      <td>1969</td>\n",
              "      <td>Regional</td>\n",
              "      <td>19</td>\n",
              "      <td>7.257.00</td>\n",
              "      <td>3.963.00</td>\n",
              "      <td>0.55</td>\n",
              "      <td>-</td>\n",
              "      <td>-</td>\n",
              "      <td>...</td>\n",
              "      <td>-</td>\n",
              "      <td>-</td>\n",
              "      <td>-</td>\n",
              "      <td>25000.0</td>\n",
              "      <td>-</td>\n",
              "      <td>NACA65A215</td>\n",
              "      <td>Garrett AiResearch TPE-331</td>\n",
              "      <td>NaN</td>\n",
              "      <td>Triciclo</td>\n",
              "      <td>0.363325</td>\n",
              "    </tr>\n",
              "    <tr>\n",
              "      <th>13</th>\n",
              "      <td>N-219</td>\n",
              "      <td>Indonésia</td>\n",
              "      <td>2017</td>\n",
              "      <td>Utilitário</td>\n",
              "      <td>19</td>\n",
              "      <td>7.030.00</td>\n",
              "      <td>4.309.00</td>\n",
              "      <td>0.61</td>\n",
              "      <td>-</td>\n",
              "      <td>-</td>\n",
              "      <td>...</td>\n",
              "      <td>1.938.00</td>\n",
              "      <td>-</td>\n",
              "      <td>-</td>\n",
              "      <td>24000.0</td>\n",
              "      <td>-</td>\n",
              "      <td>-</td>\n",
              "      <td>Pratt &amp; Whitney Canada PT6A-42</td>\n",
              "      <td>NaN</td>\n",
              "      <td>Triciclo</td>\n",
              "      <td>0.359782</td>\n",
              "    </tr>\n",
              "    <tr>\n",
              "      <th>14</th>\n",
              "      <td>Shorts 330</td>\n",
              "      <td>Irlanda do\\r\\nNorte</td>\n",
              "      <td>1976</td>\n",
              "      <td>Transporte civil e militar</td>\n",
              "      <td>33</td>\n",
              "      <td>10.387.00</td>\n",
              "      <td>NaN</td>\n",
              "      <td>-</td>\n",
              "      <td>-</td>\n",
              "      <td>-</td>\n",
              "      <td>...</td>\n",
              "      <td>1.181.10</td>\n",
              "      <td>-</td>\n",
              "      <td>-</td>\n",
              "      <td>21000.0</td>\n",
              "      <td>0.80</td>\n",
              "      <td>-</td>\n",
              "      <td>https://pt.wikipedia.org/wiki/Pratt_%26_Whitne...</td>\n",
              "      <td>NaN</td>\n",
              "      <td>Convencional</td>\n",
              "      <td>0.386667</td>\n",
              "    </tr>\n",
              "    <tr>\n",
              "      <th>15</th>\n",
              "      <td>L 410 UVP-E20 CARGO</td>\n",
              "      <td>Rep. Tcheca</td>\n",
              "      <td>1988</td>\n",
              "      <td>Transporte civil. cargo e ambulância</td>\n",
              "      <td>22</td>\n",
              "      <td>6.600.00</td>\n",
              "      <td>4.200.00</td>\n",
              "      <td>0.64</td>\n",
              "      <td>320.00</td>\n",
              "      <td>2.080.00</td>\n",
              "      <td>...</td>\n",
              "      <td>1.673.23</td>\n",
              "      <td>-</td>\n",
              "      <td>-</td>\n",
              "      <td>27500.0</td>\n",
              "      <td>0.52</td>\n",
              "      <td>-</td>\n",
              "      <td>https://pt.wikipedia.org/wiki/General_Electric...</td>\n",
              "      <td>0</td>\n",
              "      <td>Convencional</td>\n",
              "      <td>0.198030</td>\n",
              "    </tr>\n",
              "    <tr>\n",
              "      <th>16</th>\n",
              "      <td>Short Skyvan</td>\n",
              "      <td>Irlanda do\\r\\nNorte</td>\n",
              "      <td>1963</td>\n",
              "      <td>Transporte de mercadoria e paraquedismo</td>\n",
              "      <td>21</td>\n",
              "      <td>5.670.00</td>\n",
              "      <td>NaN</td>\n",
              "      <td>-</td>\n",
              "      <td>-</td>\n",
              "      <td>-</td>\n",
              "      <td>...</td>\n",
              "      <td>-</td>\n",
              "      <td>-</td>\n",
              "      <td>-</td>\n",
              "      <td>22500.0</td>\n",
              "      <td>NaN</td>\n",
              "      <td>-</td>\n",
              "      <td>https://pt.wikipedia.org/w/index.php?title=Hon...</td>\n",
              "      <td>NaN</td>\n",
              "      <td>Convencional</td>\n",
              "      <td>0.146914</td>\n",
              "    </tr>\n",
              "    <tr>\n",
              "      <th>17</th>\n",
              "      <td>C-295</td>\n",
              "      <td>Espanha</td>\n",
              "      <td>1994</td>\n",
              "      <td>Transporte de carga</td>\n",
              "      <td>-</td>\n",
              "      <td>21.000.00</td>\n",
              "      <td>NaN</td>\n",
              "      <td>-</td>\n",
              "      <td>7.626.00</td>\n",
              "      <td>13.374.00</td>\n",
              "      <td>...</td>\n",
              "      <td>-</td>\n",
              "      <td>-</td>\n",
              "      <td>-</td>\n",
              "      <td>25000.0</td>\n",
              "      <td>0.42</td>\n",
              "      <td>-</td>\n",
              "      <td>PW P&amp;WC127G</td>\n",
              "      <td>0</td>\n",
              "      <td>Convencional</td>\n",
              "      <td>0.523232</td>\n",
              "    </tr>\n",
              "    <tr>\n",
              "      <th>18</th>\n",
              "      <td>C-27J Spartan</td>\n",
              "      <td>Itália</td>\n",
              "      <td>1996</td>\n",
              "      <td>Transporte carga</td>\n",
              "      <td>60</td>\n",
              "      <td>30.500.00</td>\n",
              "      <td>17.500.00</td>\n",
              "      <td>-</td>\n",
              "      <td>9.600.00</td>\n",
              "      <td>3.400.00</td>\n",
              "      <td>...</td>\n",
              "      <td>1.649.00</td>\n",
              "      <td>-</td>\n",
              "      <td>-</td>\n",
              "      <td>30000.0</td>\n",
              "      <td>0.53</td>\n",
              "      <td>-</td>\n",
              "      <td>Alisson/Rolls Royce AE2100D2A</td>\n",
              "      <td>0</td>\n",
              "      <td>Convencional</td>\n",
              "      <td>0.729483</td>\n",
              "    </tr>\n",
              "    <tr>\n",
              "      <th>19</th>\n",
              "      <td>Beenchcraft Bonanza</td>\n",
              "      <td>USA</td>\n",
              "      <td>1945</td>\n",
              "      <td>Utilitário</td>\n",
              "      <td>5</td>\n",
              "      <td>1.656.00</td>\n",
              "      <td>1.142.00</td>\n",
              "      <td>0.69</td>\n",
              "      <td>145.45</td>\n",
              "      <td>368.55</td>\n",
              "      <td>...</td>\n",
              "      <td>1.230.00</td>\n",
              "      <td>-</td>\n",
              "      <td>-</td>\n",
              "      <td>18500.0</td>\n",
              "      <td>-</td>\n",
              "      <td>Root: 23016\\r\\nTip: 23012</td>\n",
              "      <td>Continental IO-550-B</td>\n",
              "      <td>NaN</td>\n",
              "      <td>Triciclo</td>\n",
              "      <td>0.400978</td>\n",
              "    </tr>\n",
              "    <tr>\n",
              "      <th>20</th>\n",
              "      <td>Pilatus PC-12</td>\n",
              "      <td>Suíça</td>\n",
              "      <td>1991</td>\n",
              "      <td>Passageiro\\r\\nCargueiro</td>\n",
              "      <td>9</td>\n",
              "      <td>4.740.00</td>\n",
              "      <td>2.810.00</td>\n",
              "      <td>0.59</td>\n",
              "      <td>1.226.00</td>\n",
              "      <td>704.00</td>\n",
              "      <td>...</td>\n",
              "      <td>1.919.00</td>\n",
              "      <td>758.00</td>\n",
              "      <td>661.00</td>\n",
              "      <td>30000.0</td>\n",
              "      <td>-</td>\n",
              "      <td>Root: NACA LS(1)-0417MOD\\r\\nTip: NACA LS(1)-0313</td>\n",
              "      <td>Pratt &amp; Whitney Canada PT6A-67P</td>\n",
              "      <td>NaN</td>\n",
              "      <td>Triciclo</td>\n",
              "      <td>0.300000</td>\n",
              "    </tr>\n",
              "  </tbody>\n",
              "</table>\n",
              "<p>21 rows × 38 columns</p>\n",
              "</div>"
            ],
            "text/plain": [
              "                           Aeronave               Origem   Ano  \\\n",
              "0                      Antonov An-2                 URSS  1947   \n",
              "1             Cessna 408 SkyCourier                  USA  2022   \n",
              "2              DHC-6 Twin Otter 400                  USA  1996   \n",
              "3                       Harbin Y-12                China  1986   \n",
              "4                      Basler BT-67                  USA  1990   \n",
              "5                  Beechcraft 1900D                  USA  1982   \n",
              "6                CASA C-212 Aviocar              Espanha  1971   \n",
              "7                    Cessna Caravan                  USA  1982   \n",
              "8                      DHC-2 Beaver               Canadá  1947   \n",
              "9                       Dornier 228             Alemanha  1982   \n",
              "10            Douglas C-47 Skytrain                  USA  1941   \n",
              "11      Embraer EMB 110 Bandeirante               Brasil  1968   \n",
              "12  Fairchild Swearingen Metroliner                  EUA  1969   \n",
              "13                            N-219            Indonésia  2017   \n",
              "14                       Shorts 330  Irlanda do\\r\\nNorte  1976   \n",
              "15              L 410 UVP-E20 CARGO          Rep. Tcheca  1988   \n",
              "16                     Short Skyvan  Irlanda do\\r\\nNorte  1963   \n",
              "17                            C-295              Espanha  1994   \n",
              "18                    C-27J Spartan               Itália  1996   \n",
              "19              Beenchcraft Bonanza                  USA  1945   \n",
              "20                    Pilatus PC-12                Suíça  1991   \n",
              "\n",
              "                                      Categoria Ocupante PesoT (kg)  \\\n",
              "0                                    Transporte       14   5.500.00   \n",
              "1                                    Utilitário       20   8.600.00   \n",
              "2                                    Utilitário       20   5.670.00   \n",
              "3                                    Transporte       19   5.300.00   \n",
              "4                                    Utilitário       40  13.041.00   \n",
              "5                                      Regional       18   7.688.00   \n",
              "6                                    Utilitário       26   7.700.00   \n",
              "7   Utilitário. executivo e transporte regional       14   3.867.00   \n",
              "8                                    Utilitário        6   2.721.00   \n",
              "9                                    Utilitário       19   6.575.00   \n",
              "10                           Transporte militar        4  14.061.00   \n",
              "11                                     Regional       21   5.670.00   \n",
              "12                                     Regional       19   7.257.00   \n",
              "13                                   Utilitário       19   7.030.00   \n",
              "14                   Transporte civil e militar       33  10.387.00   \n",
              "15         Transporte civil. cargo e ambulância       22   6.600.00   \n",
              "16      Transporte de mercadoria e paraquedismo       21   5.670.00   \n",
              "17                          Transporte de carga        -  21.000.00   \n",
              "18                             Transporte carga       60  30.500.00   \n",
              "19                                   Utilitário        5   1.656.00   \n",
              "20                      Passageiro\\r\\nCargueiro        9   4.740.00   \n",
              "\n",
              "   PesoV (kg) PesoV/PesoT PesoF (kg) Peso CP (kg)  ... Climb ( ft/min)  \\\n",
              "0    3.300.00        0.60     948.19     1.251.81  ...          690.00   \n",
              "1    4.990.00        0.58   2.139.04     1.470.96  ...               -   \n",
              "2    3.221.00        0.57   1.087.99     1.361.01  ...               -   \n",
              "3    2.840.00        0.54   1.308.62     1.151.38  ...               -   \n",
              "4    7.121.00        0.55   2.346.16     3.573.84  ...               -   \n",
              "5    4.831.00        0.63   2.022.00       835.00  ...        2.615.00   \n",
              "6    3.780.00        0.49   1.600.00     2.320.00  ...        1.630.00   \n",
              "7    2.073.00        0.54     960.00       834.00  ...        1.234.00   \n",
              "8    1.359.00        0.50     545.00       817.00  ...        1.020.00   \n",
              "9    3.900.00        0.59   1.885.00       790.00  ...               -   \n",
              "10   8.226.00        0.59          -            -  ...               -   \n",
              "11   3.590.00        0.63   1.272.00       808.00  ...               -   \n",
              "12   3.963.00        0.55          -            -  ...               -   \n",
              "13   4.309.00        0.61          -            -  ...        1.938.00   \n",
              "14        NaN           -          -            -  ...        1.181.10   \n",
              "15   4.200.00        0.64     320.00     2.080.00  ...        1.673.23   \n",
              "16        NaN           -          -            -  ...               -   \n",
              "17        NaN           -   7.626.00    13.374.00  ...               -   \n",
              "18  17.500.00           -   9.600.00     3.400.00  ...        1.649.00   \n",
              "19   1.142.00        0.69     145.45       368.55  ...        1.230.00   \n",
              "20   2.810.00        0.59   1.226.00       704.00  ...        1.919.00   \n",
              "\n",
              "    Dist decol (m) Dist aterra (m)  Teto max (ft)  \\\n",
              "0           487.68          426.72        14750.0   \n",
              "1         1.116.00               -        25000.0   \n",
              "2           366.00          320.00        25000.0   \n",
              "3                -               -        23000.0   \n",
              "4                -               -        25000.0   \n",
              "5         1.132.00        1.086.00        25000.0   \n",
              "6           610.00          462.00        26000.0   \n",
              "7           626.00          495.00        25000.0   \n",
              "8                -               -        18000.0   \n",
              "9           792.00               -        25000.0   \n",
              "10               -               -            NaN   \n",
              "11               -               -        27100.0   \n",
              "12               -               -        25000.0   \n",
              "13               -               -        24000.0   \n",
              "14               -               -        21000.0   \n",
              "15               -               -        27500.0   \n",
              "16               -               -        22500.0   \n",
              "17               -               -        25000.0   \n",
              "18               -               -        30000.0   \n",
              "19               -               -        18500.0   \n",
              "20          758.00          661.00        30000.0   \n",
              "\n",
              "   Afilamento \\r\\n(c_tip / c_root)  \\\n",
              "0                             0.00   \n",
              "1                                -   \n",
              "2                                -   \n",
              "3                                -   \n",
              "4                             0.43   \n",
              "5                                -   \n",
              "6                                -   \n",
              "7                             0.64   \n",
              "8                                -   \n",
              "9                                -   \n",
              "10                               -   \n",
              "11                               -   \n",
              "12                               -   \n",
              "13                               -   \n",
              "14                            0.80   \n",
              "15                            0.52   \n",
              "16                             NaN   \n",
              "17                            0.42   \n",
              "18                            0.53   \n",
              "19                               -   \n",
              "20                               -   \n",
              "\n",
              "                                              Perfil  \\\n",
              "0                                         TsAGI R-11   \n",
              "1                                                  -   \n",
              "2                                                  -   \n",
              "3                                                  -   \n",
              "4                                                  -   \n",
              "5                                                  -   \n",
              "6                                       NACA 65_3218   \n",
              "7                                                  -   \n",
              "8                                     D.H. high lift   \n",
              "9                                                  -   \n",
              "10                   NACA2215 raiz\\r\\nNACA2206 ponta   \n",
              "11                                                 -   \n",
              "12                                        NACA65A215   \n",
              "13                                                 -   \n",
              "14                                                 -   \n",
              "15                                                 -   \n",
              "16                                                 -   \n",
              "17                                                 -   \n",
              "18                                                 -   \n",
              "19                         Root: 23016\\r\\nTip: 23012   \n",
              "20  Root: NACA LS(1)-0417MOD\\r\\nTip: NACA LS(1)-0313   \n",
              "\n",
              "                                                Motor  Diedro      tipo trem  \\\n",
              "0                                   Shvetsov ASh-62IR      12º  Convencional   \n",
              "1                    Pratt & Whitney Canada PT6A-65SC      NaN      Triciclo   \n",
              "2                      Pratt & Whitney Canada PT6A-34      NaN      Triciclo   \n",
              "3                      Pratt & Whitney Canada PT6A-27      NaN      Triciclo   \n",
              "4                     Pratt & Whitney Canada PT6A-67R       7°  Convencional   \n",
              "5          Pratt & Whitney Canada PT6A-67D turboprops      NaN      Triciclo   \n",
              "6   Garrett AiResearch TPE331-10R-513C turboprop e...      NaN      Triciclo   \n",
              "7                    Pratt & Whitney Canada PT6A-114A        0      Triciclo   \n",
              "8                               Pratt & Whitney R-985      NaN  Convencional   \n",
              "9      https://en.wikipedia.org/wiki/Honeywell_TPE331      NaN      Triciclo   \n",
              "10               Pratt & Whitney R-1830-90C Twin Wasp      NaN  Convencional   \n",
              "11                     Pratt & Whitney Canada PT6A-34      NaN      Triciclo   \n",
              "12                         Garrett AiResearch TPE-331      NaN      Triciclo   \n",
              "13                     Pratt & Whitney Canada PT6A-42      NaN      Triciclo   \n",
              "14  https://pt.wikipedia.org/wiki/Pratt_%26_Whitne...      NaN  Convencional   \n",
              "15  https://pt.wikipedia.org/wiki/General_Electric...        0  Convencional   \n",
              "16  https://pt.wikipedia.org/w/index.php?title=Hon...      NaN  Convencional   \n",
              "17                                        PW P&WC127G        0  Convencional   \n",
              "18                      Alisson/Rolls Royce AE2100D2A        0  Convencional   \n",
              "19                               Continental IO-550-B      NaN      Triciclo   \n",
              "20                    Pratt & Whitney Canada PT6A-67P      NaN      Triciclo   \n",
              "\n",
              "    Incidencia  \n",
              "0     0.473684  \n",
              "1     0.577358  \n",
              "2     0.438797  \n",
              "3     0.480480  \n",
              "4     0.201550  \n",
              "5     0.225000  \n",
              "6     0.467693  \n",
              "7     0.072508  \n",
              "8     0.533683  \n",
              "9     0.327237  \n",
              "10    0.363295  \n",
              "11    0.362334  \n",
              "12    0.363325  \n",
              "13    0.359782  \n",
              "14    0.386667  \n",
              "15    0.198030  \n",
              "16    0.146914  \n",
              "17    0.523232  \n",
              "18    0.729483  \n",
              "19    0.400978  \n",
              "20    0.300000  \n",
              "\n",
              "[21 rows x 38 columns]"
            ]
          },
          "execution_count": 194,
          "metadata": {},
          "output_type": "execute_result"
        }
      ],
      "source": [
        "database = pd.read_csv('database_cargo.csv', nrows=21)\n",
        "database = database.drop('#', axis=1)\n",
        "database"
      ]
    },
    {
      "cell_type": "code",
      "execution_count": 195,
      "metadata": {},
      "outputs": [
        {
          "data": {
            "text/plain": [
              "array([ 5500.,  8600.,  5670.,  5300., 13041.,  7688.,  7700.,  3867.,\n",
              "        2721.,  6575., 14061.,  5670.,  7257.,  7030., 10387.,  6600.,\n",
              "        5670., 21000., 30500.,  1656.,  4740.])"
            ]
          },
          "execution_count": 195,
          "metadata": {},
          "output_type": "execute_result"
        }
      ],
      "source": [
        "def convert_to_float(x):\n",
        "  \"\"\"\n",
        "  This function removes thousands separators (dots or commas)\n",
        "  and converts the string to a float value.\n",
        "  \"\"\"\n",
        "  return float(x.replace('.', '')) / 100\n",
        "\n",
        "database['PesoT (kg)'] = database['PesoT (kg)'].apply(convert_to_float) \n",
        "database['PesoT (kg)'].values"
      ]
    },
    {
      "cell_type": "code",
      "execution_count": 196,
      "metadata": {},
      "outputs": [
        {
          "data": {
            "text/plain": [
              "Text(18618.4, 1814.1264180579656, 'Current aircraft: \\n(8618.4, 1814.1)')"
            ]
          },
          "execution_count": 196,
          "metadata": {},
          "output_type": "execute_result"
        },
        {
          "data": {
            "image/png": "[encoded data removed]",
            "text/plain": [
              "<Figure size 640x480 with 1 Axes>"
            ]
          },
          "metadata": {},
          "output_type": "display_data"
        }
      ],
      "source": [
        "data_W_S = np.polyfit(database['PesoT (kg)'].values, database['Carga Alar (W/S)'].values * 9.81, 1)\n",
        "pol_WS = np.poly1d(data_W_S)\n",
        "\n",
        "MTOW = aircraft['definitions']['MTOW']\n",
        "W_S = pol_WS(aircraft['definitions']['MTOW'])\n",
        "\n",
        "plt.figure()\n",
        "plt.scatter(database['PesoT (kg)'].values, database['Carga Alar (W/S)'].values * 9.81, c='b', label='Data')\n",
        "plt.plot(database['PesoT (kg)'].values, pol_WS(database['PesoT (kg)'].values), color='r', linestyle='dashed', label=f'Equation: y={pol_WS[1]:.4f}x + {pol_WS[0]:.1f}')\n",
        "plt.xlabel('MTOW (Kg)')\n",
        "plt.ylabel('Wing load (N/m²)')\n",
        "plt.legend()\n",
        "plt.grid()\n",
        "plt.annotate(text=f'Current aircraft: \\n({MTOW}, {W_S:.1f})', xy = (aircraft['definitions']['MTOW'], pol_WS(aircraft['definitions']['MTOW'])),\n",
        "                                            xytext=(aircraft['definitions']['MTOW'] + 10000, pol_WS(aircraft['definitions']['MTOW'])), arrowprops = dict(facecolor ='black', arrowstyle = \"->\"))"
      ]
    },
    {
      "cell_type": "code",
      "execution_count": 197,
      "metadata": {},
      "outputs": [
        {
          "data": {
            "text/plain": [
              "array([0.6 , 0.58, 0.57, 0.54, 0.55, 0.63, 0.49, 0.54, 0.5 , 0.59, 0.59,\n",
              "       0.63, 0.55, 0.61, 0.64, 0.69, 0.59])"
            ]
          },
          "execution_count": 197,
          "metadata": {},
          "output_type": "execute_result"
        }
      ],
      "source": [
        "plot_PV_PT = database.loc[:,'PesoT (kg)':'PesoV/PesoT':2]\n",
        "plot_PV_PT.replace('-', np.nan, inplace=True)\n",
        "plot_PV_PT.dropna(inplace=True)\n",
        "plot_PV_PT['PesoV/PesoT'] = plot_PV_PT['PesoV/PesoT'].apply(convert_to_float) \n",
        "plot_PV_PT['PesoV/PesoT'].values"
      ]
    },
    {
      "cell_type": "code",
      "execution_count": 198,
      "metadata": {},
      "outputs": [
        {
          "data": {
            "text/plain": [
              "array([-2.81156031e-06, -5.26542611e-01])"
            ]
          },
          "execution_count": 198,
          "metadata": {},
          "output_type": "execute_result"
        }
      ],
      "source": [
        "data_PV_PT = np.polyfit(plot_PV_PT['PesoT (kg)'].values, np.log(plot_PV_PT['PesoV/PesoT'].values), 1)\n",
        "data_PV_PT"
      ]
    },
    {
      "cell_type": "code",
      "execution_count": 199,
      "metadata": {},
      "outputs": [
        {
          "data": {
            "text/plain": [
              "Text(10018.4, 0.6265035609701278, 'Current aircraft: \\n(8618.4, 0.58)')"
            ]
          },
          "execution_count": 199,
          "metadata": {},
          "output_type": "execute_result"
        },
        {
          "data": {
            "image/png": "[encoded data removed]",
            "text/plain": [
              "<Figure size 640x480 with 1 Axes>"
            ]
          },
          "metadata": {},
          "output_type": "display_data"
        }
      ],
      "source": [
        "data_PV_PT = np.polyfit(plot_PV_PT['PesoT (kg)'].values, np.log(plot_PV_PT['PesoV/PesoT'].values), 1)\n",
        "values = np.exp(data_PV_PT[1])*np.exp(data_PV_PT[0]*plot_PV_PT['PesoT (kg)'].values)\n",
        "\n",
        "MTOW = aircraft['definitions']['MTOW']\n",
        "PV_PT = np.exp(data_PV_PT[1])*np.exp(data_PV_PT[0]*aircraft['definitions']['MTOW'])\n",
        "\n",
        "plt.figure()\n",
        "plt.scatter(plot_PV_PT['PesoT (kg)'].values, plot_PV_PT['PesoV/PesoT'].values, c='b', label='Data')\n",
        "plt.plot(plot_PV_PT['PesoT (kg)'].values, values, color='r', linestyle='dashed', label=f'Equation: y=exp({pol_WS[0]:.1f}x + {pol_WS[1]:.1f})')\n",
        "plt.xlabel('MTOW (Kg)')\n",
        "plt.ylabel('We / MTOW (-)')\n",
        "plt.legend()\n",
        "plt.grid()\n",
        "plt.annotate(text=f'Current aircraft: \\n({MTOW}, {PV_PT:.2f})', xy = (aircraft['definitions']['MTOW'], PV_PT),\n",
        "                                            xytext=(aircraft['definitions']['MTOW'] + 1400, PV_PT+0.05), arrowprops = dict(facecolor ='black', arrowstyle = \"->\"))"
      ]
    },
    {
      "cell_type": "code",
      "execution_count": 200,
      "metadata": {},
      "outputs": [
        {
          "name": "stdout",
          "output_type": "stream",
          "text": [
            "Range previsto pelo database: 1197.01136 nm; ou 2217 Km\n"
          ]
        }
      ],
      "source": [
        "# Cálculo do alcance baseado no MTOW a partir da database\n",
        "range = 0.0854*aircraft['definitions'][\"MTOW\"] + 461\n",
        "print(f'Range previsto pelo database: {range} nm; ou {(units.nautical_miles2m(range)/1000):.0f} Km') # ~ 1100 nm"
      ]
    },
    {
      "cell_type": "markdown",
      "metadata": {
        "id": "1Z0BOHQ7J88P"
      },
      "source": [
        "# Cálculos de Estimativa de Performance Inicial"
      ]
    },
    {
      "cell_type": "code",
      "execution_count": 201,
      "metadata": {
        "colab": {
          "base_uri": "https://localhost:8080/"
        },
        "id": "DBUZBEErKCtB",
        "outputId": "d111426f-355b-4fcb-db31-e4d36b8d75ae"
      },
      "outputs": [],
      "source": [
        "g = 9.81\n",
        "rho_SL = 1.225 # Densidade do ar a nível do mar\n",
        "\n",
        "# Perfil da missão\n",
        "missao = {\n",
        "    \"Perfil\" : ['Take off','Ascending','Cruise_1','Descending','Loitter','Cruise_2','Landing'],\n",
        "    \"Range_1\" : units.mi2m(range),\n",
        "    \"Range_2\" : units.mi2m(100),\n",
        "    \"Loitter_time\" : 20 * 60\n",
        "}\n",
        "\n",
        "aircraft['missao'] = missao"
      ]
    },
    {
      "cell_type": "code",
      "execution_count": 202,
      "metadata": {
        "colab": {
          "base_uri": "https://localhost:8080/"
        },
        "id": "Nby1XAjuGBa5",
        "outputId": "b946d03c-26bf-43c2-d3c3-1dfb156fdc8d"
      },
      "outputs": [
        {
          "name": "stdout",
          "output_type": "stream",
          "text": [
            "Peso vazio: 5171.04\n",
            "Carga alar: 1902\n",
            "Área de asa: 42.2\n",
            "Cl de cruzeiro a nível do mar: 0.22\n",
            "Empuxo do motor: 4263.97\n",
            "Cd de cruzeiro a nível do mar: 0.0118\n",
            "L/D de cruzeiro a nível do mar: 18.84\n",
            "Consumo cruise : 1.80e-04\n",
            "Consumo loiter : 2.16e-04\n",
            "Vel. Stall : 40.4\n"
          ]
        }
      ],
      "source": [
        "# Calculo de peso vazio\n",
        "aircraft['definitions'][\"W_empty\"] = aircraft['definitions'][\"W_empty/W\"] * aircraft['definitions'][\"MTOW\"]\n",
        "print(f'Peso vazio: {aircraft[\"definitions\"][\"W_empty\"]}')\n",
        "\n",
        "# Estimativa de carga alar, via linearização dos dados do banco de dados. É dada por Kg de MTOW/ Área de asa; deve ser convertido em N\n",
        "\n",
        "aircraft['definitions'][\"wing_load\"] = (0.00846 * aircraft['definitions'][\"MTOW\"] + 121)*g\n",
        "print(f'Carga alar: {aircraft[\"definitions\"][\"wing_load\"]:.0f}')\n",
        "\n",
        "# Projetando área para condição de cruzeiro, com consumo de combustível equivalente a 5% do peso total\n",
        "aircraft['wing'][\"S\"] = 0.95*aircraft[\"definitions\"][\"MTOW\"] * g / aircraft[\"definitions\"][\"wing_load\"]\n",
        "print(f'Área de asa: {aircraft[\"wing\"][\"S\"]:.1f}')\n",
        "\n",
        "# Definindo Cl para condição de cruzeiro\n",
        "aircraft[\"definitions\"][\"Cl cruise\"] = aircraft[\"definitions\"][\"wing_load\"] / ( 0.5 * rho_SL * (aircraft[\"definitions\"][\"V_cruise\"]**2 ) )\n",
        "print(f'Cl de cruzeiro a nível do mar: {aircraft[\"definitions\"][\"Cl cruise\"]:.2f}')\n",
        "\n",
        "# Estimativa do empuxo necessário. Assume-se que, em cruzeiro, usa-se 65% da potência\n",
        "# máxima do motor; eficiência da hélice de 80%; cálculo a nível do mar para projeto conceitual\n",
        "power_cruise = 0.65 * aircraft[\"engine\"][\"power\"]\n",
        "eta = 0.65\n",
        "\n",
        "aircraft['engine'][\"thrust cruise\"] =  eta * power_cruise/ aircraft[\"definitions\"][\"V_cruise\"]\n",
        "aircraft[\"definitions\"][\"Thrust_to_weight\"] =  aircraft[\"engine\"][\"thrust cruise\"]/(aircraft[\"definitions\"][\"MTOW\"]*g)\n",
        "print(f'Empuxo do motor: {aircraft[\"engine\"][\"thrust cruise\"]:.2f}')\n",
        "\n",
        "aircraft[\"definitions\"][\"Cd cruise\"] =  aircraft[\"engine\"][\"thrust cruise\"]/(0.5 * rho_SL * (aircraft[\"definitions\"][\"V_cruise\"]**2) * aircraft[\"wing\"][\"S\"])\n",
        "print(f'Cd de cruzeiro a nível do mar: {aircraft[\"definitions\"][\"Cd cruise\"]:.4f}')\n",
        "print(f'L/D de cruzeiro a nível do mar: {aircraft[\"definitions\"][\"Cl cruise\"]/aircraft[\"definitions\"][\"Cd cruise\"]:.2f}')\n",
        "\n",
        "# Calculo do SFC em cruise e loiter a partir de Raymer\n",
        "aircraft[\"engine\"]['SFC_cruise'] = 0.5 * aircraft[\"definitions\"]['V_cruise'] / (units.hp2Watt(550) * 0.8)\n",
        "aircraft[\"engine\"]['SFC_loiter'] = 0.6 * aircraft[\"definitions\"]['V_cruise'] / (units.hp2Watt(550) * 0.8)\n",
        "print(f'Consumo cruise : {aircraft[\"engine\"][\"SFC_cruise\"]:.2e}')\n",
        "print(f'Consumo loiter : {aircraft[\"engine\"][\"SFC_loiter\"]:.2e}')\n",
        "\n",
        "# Calculo de stall\n",
        "cl_dec = 2\n",
        "aircraft[\"definitions\"]['V_stall'] = np.sqrt(2*aircraft[\"definitions\"][\"MTOW\"]*g/(rho_SL * aircraft['wing']['S'] * cl_dec))\n",
        "print(f\"Vel. Stall : {aircraft['definitions']['V_stall']:.1f}\")\n"
      ]
    },
    {
      "cell_type": "markdown",
      "metadata": {
        "id": "tN3odMJZGBa7"
      },
      "source": [
        "### Estimativa de Peso\n",
        "\n",
        "#### Metodo do Raymer"
      ]
    },
    {
      "cell_type": "code",
      "execution_count": 203,
      "metadata": {
        "colab": {
          "base_uri": "https://localhost:8080/"
        },
        "id": "BfDeab5eGBa7",
        "outputId": "546132d5-98e1-4516-8fa2-6a5475e5e2e8"
      },
      "outputs": [
        {
          "name": "stdout",
          "output_type": "stream",
          "text": [
            "{'Take off': 0.97, 'Ascending': 0.987, 'Cruise_1': 0.855717833036055, 'Cruise_2': 0.9870673858406859, 'Descending': 1, 'Loitter': 0.9863220797771163, 'Landing': 0.995}\n",
            "0.20638821544149977\n",
            "wf/w0= 0.20638821544149977\n",
            "wf = 1778.7361959610216\n",
            "vol = 2470.4669388347525\n",
            "Payload: 1468.6238040389785\n"
          ]
        }
      ],
      "source": [
        "def first_weight_estimate(aircraft: dict) -> float :\n",
        "    frac_weight = 1\n",
        "    fracs = {\n",
        "        'Take off':0.97,\n",
        "        'Ascending':0.987,\n",
        "        'Cruise_1':np.exp(-aircraft['missao']['Range_1'] * aircraft[\"engine\"][\"SFC_cruise\"]/(aircraft[\"definitions\"]['V_cruise'] * (aircraft[\"definitions\"][\"Cl cruise\"]/aircraft[\"definitions\"][\"Cd cruise\"]))),\n",
        "        'Cruise_2':np.exp(-aircraft['missao']['Range_2'] * aircraft[\"engine\"][\"SFC_cruise\"]/(aircraft[\"definitions\"]['V_cruise'] * (aircraft[\"definitions\"][\"Cl cruise\"]/aircraft[\"definitions\"][\"Cd cruise\"]))),\n",
        "        'Descending': 1,\n",
        "        'Loitter': np.exp(-aircraft['missao']['Loitter_time'] * aircraft['engine']['SFC_loiter']/(aircraft[\"definitions\"][\"Cl cruise\"]/aircraft[\"definitions\"][\"Cd cruise\"])),\n",
        "        'Landing': 0.995\n",
        "    }\n",
        "\n",
        "    print(fracs)\n",
        "\n",
        "    for leg in aircraft['missao']['Perfil']:\n",
        "        frac_weight = frac_weight * fracs[leg]\n",
        "\n",
        "    return frac_weight\n",
        "\n",
        "wf_frac = 1 - first_weight_estimate(aircraft)\n",
        "\n",
        "print(wf_frac)\n",
        "\n",
        "print(f'wf/w0= {wf_frac}')\n",
        "print(f'wf = {wf_frac*aircraft[\"definitions\"][\"MTOW\"]}')\n",
        "print(f'vol = {wf_frac*aircraft[\"definitions\"][\"MTOW\"]/0.72}')\n",
        "\n",
        "aircraft['definitions']['W_fuel'] = wf_frac*aircraft[\"definitions\"][\"MTOW\"]\n",
        "aircraft['definitions']['W_payload'] = aircraft[\"definitions\"]['MTOW'] * (1 - wf_frac - aircraft[\"definitions\"]['W_empty/W']) - aircraft[\"definitions\"]['W_crew']\n",
        "\n",
        "w_pay = aircraft[\"definitions\"]['MTOW'] * (1 - wf_frac - aircraft[\"definitions\"]['W_empty/W']) - aircraft[\"definitions\"]['W_crew']\n",
        "print(f'Payload: {w_pay}')"
      ]
    },
    {
      "cell_type": "markdown",
      "metadata": {
        "id": "-2UScbLe3F2n"
      },
      "source": [
        "### Definição Áreas de Empenagem\n",
        "\n",
        "Estimativas baseadas e tendencia de Ht e Vt vs. Peso total\n"
      ]
    },
    {
      "cell_type": "code",
      "execution_count": 204,
      "metadata": {
        "colab": {
          "base_uri": "https://localhost:8080/"
        },
        "id": "eArfGxIsFG8I",
        "outputId": "b0ade2d8-98cd-4517-cd8e-79224a73b177"
      },
      "outputs": [
        {
          "name": "stdout",
          "output_type": "stream",
          "text": [
            "S_ref: 42.223\n",
            "S_Ht: 9.736\n",
            "S_profundor: 4.099\n",
            "S_Vt: 6.681\n",
            "S_leme: 2.676\n",
            "S_flap: 4.640\n",
            "S_aileron: 3.181\n"
          ]
        }
      ],
      "source": [
        "def estimate_aerodynamic_areas(aircraft):\n",
        "    '''\n",
        "    Estimate areas of aerodynamic surfaces based on the correlation between MTOW and areas of the cargo database\n",
        "    '''\n",
        "    # Parameter = MTOW\n",
        "\n",
        "    x = aircraft['definitions']['MTOW']\n",
        "\n",
        "    # horizontal tail\n",
        "\n",
        "    aircraft['ht']['S'] = 4.3E-04*x + 6.03\n",
        "    aircraft['ht']['S_elevator'] = 3.41E-04*x + 1.16\n",
        "\n",
        "    aircraft['vt']['S'] = 4.77E-04*x + 2.57\n",
        "    aircraft['vt']['S_rudder'] = 1.19E-04*x + 1.65\n",
        "\n",
        "    aircraft['wing']['S_flap'] = 4.43E-04*x + 0.822\n",
        "    aircraft['wing']['S_aileron'] = 1.8E-04*x + 1.63\n",
        "\n",
        "    return aircraft\n",
        "\n",
        "aircraft = estimate_aerodynamic_areas(aircraft)\n",
        "\n",
        "print(f\"S_ref: {aircraft['wing']['S']:.3f}\")\n",
        "print(f\"S_Ht: {aircraft['ht']['S']:.3f}\")\n",
        "print(f\"S_profundor: {aircraft['ht']['S_elevator']:.3f}\")\n",
        "print(f\"S_Vt: {aircraft['vt']['S']:.3f}\")\n",
        "print(f\"S_leme: {aircraft['vt']['S_rudder']:.3f}\")\n",
        "print(f\"S_flap: {aircraft['wing']['S_flap']:.3f}\")\n",
        "print(f\"S_aileron: {aircraft['wing']['S_aileron']:.3f}\")"
      ]
    },
    {
      "cell_type": "code",
      "execution_count": 205,
      "metadata": {
        "colab": {
          "base_uri": "https://localhost:8080/"
        },
        "id": "k4Z0kbC3HZDg",
        "outputId": "2a236924-d8f6-4de9-f81f-a9774de5d85e"
      },
      "outputs": [
        {
          "name": "stdout",
          "output_type": "stream",
          "text": [
            "S_ref: 42.223\n",
            "S_Ht: 9.736\n",
            "S_profundor: 4.099\n",
            "S_Vt: 6.681\n",
            "S_leme: 2.676\n",
            "S_flap: 4.640\n",
            "S_aileron: 3.181\n",
            "\n"
          ]
        }
      ],
      "source": [
        "print(f\"\"\"S_ref: {aircraft['wing']['S']:.3f}\n",
        "S_Ht: {aircraft['ht']['S']:.3f}\n",
        "S_profundor: {aircraft['ht']['S_elevator']:.3f}\n",
        "S_Vt: {aircraft['vt']['S']:.3f}\n",
        "S_leme: {aircraft['vt']['S_rudder']:.3f}\n",
        "S_flap: {aircraft['wing']['S_flap']:.3f}\n",
        "S_aileron: {aircraft['wing']['S_aileron']:.3f}\n",
        "\"\"\")"
      ]
    },
    {
      "cell_type": "markdown",
      "metadata": {
        "id": "OsnJ0ak8IkD8"
      },
      "source": [
        "Antes de seguir para a próxima seção, acrescentam-se medidas geométricas, materiais e porcentagem de corda em regime laminar a cada um dos componentes.\n",
        "\n",
        "As medidas geométricas adicionais são obtidas por meio do CAD da aeronave, que foi obtido por meio da correlação entre dados do database, das áreas estimadas e ajustes de engenharia.\n",
        "\n",
        "Para os materiais, assume-se alumínio aeroespacial.\n",
        "\n",
        "Para a porcentagem de corda em regime laminar, utiliza-se a tabela () do livro do Roskam."
      ]
    },
    {
      "cell_type": "code",
      "execution_count": 206,
      "metadata": {
        "colab": {
          "base_uri": "https://localhost:8080/"
        },
        "id": "H3oNnR9juxL2",
        "outputId": "a1a6a878-7aec-486b-e508-b6eda5c22e3d"
      },
      "outputs": [
        {
          "name": "stdout",
          "output_type": "stream",
          "text": [
            "definitions = {'MTOW': 8618.4, 'V_cruise': 118.22, 'W_empty/W': 0.6, 'W_crew': 200, 'operational ceiling': 7620.0, 'W_empty': 5171.04, 'wing_load': 1902.27342384, 'Cl cruise': 0.22222091806664124, 'Thrust_to_weight': 0.05043341839359266, 'Cd cruise': 0.011797221617540201, 'V_stall': 40.43026829075338, 'W_fuel': 1778.7361959610216, 'W_payload': 1468.6238040389785, 'WL': 7195.411043231183}\n",
            "\n",
            "engine = {'power': 1193104.0, 'number_of_engines': 2, 'thrust cruise': 4263.969209947555, 'SFC_cruise': 0.0001801565115408669, 'SFC_loiter': 0.0002161878138490403}\n",
            "\n",
            "wing = {'S': 42.22273086161542, 'S_flap': 4.6399512, 'S_aileron': 3.181312, 'b': 21, 'CMA': 1.965, 'S_wet': 84.4, 'Percent_laminar': 0.1, 'sweep': 0, 'taper_ratio': 1, 'hinge': False, 'thickness': 0.12, 'material': 'Aerospace aluminum', 'AR': 10.444611018775008}\n",
            "\n",
            "ht = {'S': 9.735911999999999, 'S_elevator': 4.0988744, 'b': 6.5, 'CMA': 1.491, 'S_wet': 18.4, 'Percent_laminar': 0.1, 'sweep': 0, 'taper_ratio': 1, 'VH': 0.88, 'Ce_Ct': 0.4, 'hinge': True, 'thickness': 0.12, 'material': 'Aerospace aluminum', 'AR': 4.339603726903038}\n",
            "\n",
            "vt = {'S': 6.6809768, 'S_rudder': 2.6755896, 'b': 2.75, 'CMA': 2.156, 'S_wet': 12.3, 'Percent_laminar': 0.1, 'sweep': 20, 'taper_ratio': 1, 'VV': 0.5, 'Cr_Cv': 0.4, 'hinge': True, 'thickness': 0.12, 'material': 'Aerospace aluminum', 'AR': 1.1319452568672295}\n",
            "\n",
            "fus = {'length': 18, 'S_wet': 95.9, 'diameter': 2.6, 'Percent_laminar': 0, 'material': 'Aerospace aluminum'}\n",
            "\n",
            "landing gear = {'retractable': True, 'height': 2.1}\n",
            "\n",
            "missao = {'Perfil': ['Take off', 'Ascending', 'Cruise_1', 'Descending', 'Loitter', 'Cruise_2', 'Landing'], 'Range_1': 1925991.27824, 'Range_2': 160900, 'Loitter_time': 1200}\n",
            "\n"
          ]
        }
      ],
      "source": [
        "wing_param = {\n",
        "    'b': 21,\n",
        "    'CMA': 1.965,\n",
        "    'S_wet': 84.4,\n",
        "    'Percent_laminar': 0.1,\n",
        "    'sweep': 0,\n",
        "    'taper_ratio': 1,\n",
        "    'hinge': False,\n",
        "    'thickness': 0.12, \n",
        "    'material': \"Aerospace aluminum\", # Dever ser compativel com o arquivo weight_estimation_data.json\n",
        "}\n",
        "\n",
        "ht_param = {\n",
        "    'b': 6.5,\n",
        "    'CMA': 1.491,\n",
        "    'S_wet': 18.4,\n",
        "    'Percent_laminar': 0.1,\n",
        "    'sweep': 0,\n",
        "    'taper_ratio': 1,\n",
        "    'VH': 0.88, \n",
        "    'Ce_Ct': 0.4, \n",
        "    'hinge': True,\n",
        "    'thickness': 0.12, \n",
        "    'material': \"Aerospace aluminum\", # Dever ser compativel com o arquivo weight_estimation_data.json\n",
        "}\n",
        "\n",
        "vt_param = {\n",
        "    'b': 2.75,\n",
        "    'CMA': 2.156,\n",
        "    'S_wet': 12.3,\n",
        "    'Percent_laminar': 0.1,\n",
        "    'sweep': 20,\n",
        "    'taper_ratio': 1,\n",
        "    'VV': 0.5, \n",
        "    'Cr_Cv': 0.4, \n",
        "    'hinge': True,\n",
        "    'thickness': 0.12, \n",
        "    'material': \"Aerospace aluminum\", # Dever ser compativel com o arquivo weight_estimation_data.json\n",
        "}\n",
        "\n",
        "fus_param = {\n",
        "    'length': 18,\n",
        "    'S_wet': 95.9,\n",
        "    'diameter': 2.6,\n",
        "    'Percent_laminar': 0,\n",
        "    'material': \"Aerospace aluminum\", # Dever ser compativel com o arquivo weight_estimation_data.json\n",
        "}\n",
        "\n",
        "aircraft['wing'].update(wing_param)\n",
        "aircraft['ht'].update(ht_param)\n",
        "aircraft['vt'].update(vt_param)\n",
        "aircraft['fus'].update(fus_param)\n",
        "\n",
        "aircraft['wing']['AR'] = aircraft['wing']['b']**2 / aircraft['wing']['S']\n",
        "aircraft['ht']['AR'] = aircraft['ht']['b']**2 / aircraft['ht']['S']\n",
        "aircraft['vt']['AR'] = aircraft['vt']['b']**2 / aircraft['vt']['S']\n",
        "aircraft['definitions']['WL'] = aircraft['definitions']['MTOW'] - 0.8 * wf_frac*aircraft[\"definitions\"][\"MTOW\"] \n",
        "# Landing weight\n",
        "\n",
        "for key, value in aircraft.items():\n",
        "    print(f'{key} = {value}\\n')"
      ]
    },
    {
      "cell_type": "markdown",
      "metadata": {
        "id": "MuI5CxAW5Jj4"
      },
      "source": [
        "# Estimativa de arrasto"
      ]
    },
    {
      "cell_type": "markdown",
      "metadata": {
        "id": "_Wwp-qe75Q5g"
      },
      "source": [
        "## Arrasto parasita\n",
        "\n",
        "São propostas duas metodologias para estimá-lo.\n",
        "\n",
        "1 - Método de arrasto de fricção equivalente  \n",
        "\n",
        "A primeira envolve uma abordagem parametrizada, segundo a expressão:\n",
        "\n",
        "$C_{D_0} = C_{f_c} \\dfrac{S_{wet}}{S_{ref}}$\n",
        "\n",
        "Ela é válida para regime subsônico, na qual é assumido que o arrasto de fricção é muito superior ao arrasto de pressão devido à separação da camada limite.\n",
        "\n",
        "Para tanto, conforme a tabela () do livro de Stinton, adota-se $C_f = 0.0026$, que corresponde a uma aeronave de transporte civil. Este coeficiente parametrizado é função somente do tipo de aeronave, e compõe tanto o arrasto de fricção quanto o arrasto de pressão."
      ]
    },
    {
      "cell_type": "code",
      "execution_count": 207,
      "metadata": {
        "colab": {
          "base_uri": "https://localhost:8080/"
        },
        "id": "O7VOBg0_--Eh",
        "outputId": "e668944b-c999-4931-97e2-65b11cee528f"
      },
      "outputs": [
        {
          "data": {
            "text/plain": [
              "0.013"
            ]
          },
          "execution_count": 207,
          "metadata": {},
          "output_type": "execute_result"
        }
      ],
      "source": [
        "Cf = 0.0026\n",
        "Swet_Sref = 5\n",
        "Cd0_carteado = Cf * Swet_Sref\n",
        "Cd0_carteado"
      ]
    },
    {
      "cell_type": "markdown",
      "metadata": {
        "id": "XBr1XIbT6T8F"
      },
      "source": [
        "Recalculando, já empregando a área molhada calculada no CAD:"
      ]
    },
    {
      "cell_type": "code",
      "execution_count": 208,
      "metadata": {
        "colab": {
          "base_uri": "https://localhost:8080/"
        },
        "id": "1w_K9TyV7Taz",
        "outputId": "1f7775de-c945-4045-980a-6ade533c7a8b"
      },
      "outputs": [
        {
          "name": "stdout",
          "output_type": "stream",
          "text": [
            "Razão de área molhada por área de referência da wing é 1.9989\n",
            "Razão de área molhada por área de referência da ht é 0.4358\n",
            "Razão de área molhada por área de referência da vt é 0.2913\n",
            "Razão de área molhada por área de referência da fus é 2.2713\n",
            "Arrasto parasita total via valor parametrizado do Raymer = 0.0130\n"
          ]
        }
      ],
      "source": [
        "S_wet_total = 0\n",
        "\n",
        "for key, value in aircraft.items():\n",
        "    if 'S_wet' in value:\n",
        "        print(f'Razão de área molhada por área de referência da {key} é {aircraft[key][\"S_wet\"]/aircraft[\"wing\"][\"S\"]:.4f}')\n",
        "        S_wet_total = S_wet_total + aircraft[key]['S_wet']\n",
        "\n",
        "Cd0_menos_carteado = Cf * S_wet_total/aircraft['wing']['S']\n",
        "print(f'Arrasto parasita total via valor parametrizado do Raymer = {Cd0_menos_carteado:.4f}')"
      ]
    },
    {
      "cell_type": "markdown",
      "metadata": {
        "id": "6ElLxXIiFFMo"
      },
      "source": [
        "2 - Método de análise por componentes\n",
        "\n",
        "Esta metodologia busca medir a contribuição de cada componente da aeronave para o arrasto parasita total. Compõe-se das contribuições do coeficiente de arrasto de fricção calculado para uma placa plana $C_f$; de uma estimativa de arrasto de pressão devido à separação da camada limite, dada pelo fator de forma $FF$; os arrastos de interferência entre componentes, dados pelo parâmetro $Q$; todos os termos multiplicados pela área molhada $S_{wet}$.\n",
        "\n",
        "Para casos especiais, como trens de pouso não retráteis, flaps, protuberâncias e descontinuidades, soma-se estimativas destes componentes ao somatório de produtos anteriormente citado. Sendo assim, a expressão é dada por\n",
        "\n",
        "$C_{D_0} = \\dfrac{\\sum(C_{f_c} FF_c Q_c S_{wet_c})}{S_{ref}} + C_{D_{misc}} + C_{D_{L\\&P}}$\n",
        "\n",
        "Esta expressão é válida para regime subsônico. Para supersônico, estima-se o arrasto de fricção e soma-se as contribuições de arrasto de onda a partir da relação de distribuições de volume da aeronave. Para transônico, é tomada uma interpolação entre os regimes.\n",
        "\n",
        "Os cálculos de cada um dos fatores desta expressão são discorridos a seguir."
      ]
    },
    {
      "cell_type": "markdown",
      "metadata": {
        "id": "oP5ZQfCtBQda"
      },
      "source": [
        "## Arrasto de fricção via placa plana\n",
        "\n",
        "Tudo parte da premissa de encontrar uma estimativa do compromisso entre os tipos de regime de escoamento, laminar e turbulento. Quanto maior a porcentagem de escoamento turbulento, maior a proporção de arrasto de fricção. Por outro lado, a camada limite tende a se separar mais taridamente, reduzindo o arrasto de pressão. O compromisso entre ambos é essencial para um projeto aerodinâmico otimizado.\n",
        "\n",
        "A nível conceitual, assumem-se porcentagens do comprimento característico de cada componente que ainda estejam sob regime laminar. Para aviação geral, com aeronaves feitas de metal, sem grandes cuidados com rebites ou descontinuidades, considera-se, baseado na tabela 12.4 do Raymer, que todo o escoamento sobre a fuselagem é turbulento, e cerca de 10% de asa e empenagens é laminar.\n",
        "\n",
        "Para região laminar, o coeficiente de fricção é dado por:\n",
        "\n",
        "$C_f = \\dfrac{1.328}{\\sqrt{Re}}$\n",
        "\n",
        "Já na região turbulenta:\n",
        "\n",
        "$C_f = \\dfrac{0.455}{(log_{10}Re)^{2.58}(1+0.144M^2)^{0.65}}$\n",
        "\n",
        "Para considerar o efeito de rugosidade das superfícies, verifica-se também o Reynolds de *cutoff*, valor a partir do qual a rugosidade passa a aumentar consideravelmente a contribuição do arrasto de fricção, de forma que este valor de corte é adotado ao invés do Reynolds real. Ele é dado, para regimes subsônicos, por:\n",
        "\n",
        "$Re_{cutoff} = 38.21 (l/k)^{1.053}$\n",
        "\n",
        "Baseado nos valores de $C_f$ calculados, adota-se os valores de proporção entre lmainar e turbulento, para chegar aos valores finais de cada componente.\n",
        "\n",
        "\n",
        "\n"
      ]
    },
    {
      "cell_type": "code",
      "execution_count": 209,
      "metadata": {
        "id": "iZDfyh6E-_S4"
      },
      "outputs": [],
      "source": [
        "def compute_mu(T):\n",
        "    mu0 = 1.7894e-5\n",
        "    T0 = 273.15\n",
        "    S = 110.4\n",
        "\n",
        "    return mu0 * (T / T0) ** (3/2) * (T0 + S) / (T + S)\n",
        "\n",
        "def Re_cutoff(l):\n",
        "\n",
        "    # Para pintura em alumínio sem tratamento superficial\n",
        "\n",
        "    k = 1.015e-5\n",
        "\n",
        "    return 38.21 * (l/k)**(1.053)\n",
        "\n",
        "\n",
        "def Cf_laminar(Re):\n",
        "    return 1.328/np.sqrt(Re)\n",
        "\n",
        "\n",
        "def Cf_turbulent(Re, M):\n",
        "    return 0.455 / ( (np.log10(Re)**(2.58))*(1+0.144*M**2)**(0.65) )"
      ]
    },
    {
      "cell_type": "code",
      "execution_count": 210,
      "metadata": {
        "colab": {
          "base_uri": "https://localhost:8080/"
        },
        "id": "h8yeJxMixSFa",
        "outputId": "a6cec468-1f2a-4070-c97d-c86b3fe76a9c"
      },
      "outputs": [
        {
          "name": "stdout",
          "output_type": "stream",
          "text": [
            "Operational Reynolds = 8.289e+06\n",
            "Operational Mach = 0.382\n",
            "--------------------\n",
            "Reynolds cutoff: 1.41e+07\n",
            "Reynolds: 8.29e+06\n",
            "Cf do wing: 0.0026\n",
            "\n",
            "Reynolds cutoff: 1.05e+07\n",
            "Reynolds: 6.29e+06\n",
            "Cf do ht: 0.0027\n",
            "\n",
            "Reynolds cutoff: 1.55e+07\n",
            "Reynolds: 9.09e+06\n",
            "Cf do vt: 0.0025\n",
            "\n",
            "Reynolds cutoff: 1.45e+08\n",
            "Reynolds: 7.59e+07\n",
            "Cf do fus: 0.0020\n",
            "\n"
          ]
        }
      ],
      "source": [
        "Cf = 0\n",
        "isa = Atmosphere(aircraft['definitions']['operational ceiling'])\n",
        "rho = isa.density[0]\n",
        "T = isa.temperature[0]\n",
        "mu = isa.dynamic_viscosity[0]\n",
        "vel_som = isa.speed_of_sound[0]\n",
        "Mach = aircraft['definitions']['V_cruise']/vel_som\n",
        "Re_operational = rho * aircraft['definitions']['V_cruise'] * aircraft['wing']['CMA'] / mu\n",
        "\n",
        "print(f'Operational Reynolds = {Re_operational:.3e}')\n",
        "print(f'Operational Mach = {Mach:.3f}')\n",
        "\n",
        "print(20*'-')\n",
        "\n",
        "for key, component in aircraft.items():\n",
        "    if key == 'fus':\n",
        "        cut = Re_cutoff(component['length'])\n",
        "        Re = rho * aircraft['definitions']['V_cruise'] * component['length'] / mu\n",
        "    elif 'CMA' in component:\n",
        "        cut = Re_cutoff(component['CMA'])\n",
        "        Re = rho * aircraft['definitions']['V_cruise'] * component['CMA'] / mu\n",
        "    else:\n",
        "        continue\n",
        "\n",
        "    print(f'Reynolds cutoff: {cut:.2e}')\n",
        "    print(f'Reynolds: {Re:.2e}')\n",
        "\n",
        "    if Re > cut:\n",
        "        Re = cut\n",
        "\n",
        "    component['Cf'] = component['Percent_laminar'] * Cf_laminar(cut) + (1-component['Percent_laminar']) * Cf_turbulent(cut,Mach)\n",
        "    print(f'Cf do {key}: {component[\"Cf\"]:.4f}\\n')\n"
      ]
    },
    {
      "cell_type": "markdown",
      "metadata": {
        "id": "5e6qE8m2JBTH"
      },
      "source": [
        "## Fatores de forma\n",
        "\n",
        "Este fator leva em conta o acréscimo de arrasto devido à separação da camada limite, empregando a solução de Prandtl ao paradoxo de D'Alembert.\n",
        "\n",
        "Para superfícies aerodinâmicas e pilone:\n",
        "\n",
        "$FF = [1 + \\dfrac{0.6}{(x/c)_m}(t/c) + 100 (t/c)^4][1.34M^{0.18}(cos \\Lambda)^{0.28}]$\n",
        "\n",
        "Para fuselagem:\n",
        "\n",
        "$FF = (0.9 + \\dfrac{5}{f^{1.5}} + \\dfrac{f}{400} )$\n",
        "\n",
        "Onde $(t/c)_m$ corresponde à posição de máxima espessura e $\\Lambda$ é o enflechamento de linha de máxima espessura. Na expressão da fuselagem, $f = \\dfrac{l}{d} = \\dfrac{l}{\\sqrt{(4/\\pi)A_{max}}}$, e $l$ é o comprimento característico.\n",
        "\n",
        "Para estabilizadores com dobradiças em seus atuadores, há um acréscimo de 10% no fator de forma em função do gap entre superfícies.\n",
        "\n"
      ]
    },
    {
      "cell_type": "code",
      "execution_count": 211,
      "metadata": {
        "colab": {
          "base_uri": "https://localhost:8080/"
        },
        "id": "_2puNTnnLnbJ",
        "outputId": "a53f24eb-1b41-46f4-d346-e575d81127d1"
      },
      "outputs": [
        {
          "name": "stdout",
          "output_type": "stream",
          "text": [
            "\n",
            "Wing form factor: 1.1914\n",
            "Horizontal stabilizer form factor:  1.3249\n",
            "Vertical stabilizer form factor: 1.2839\n",
            "Fuselage form factor: 1.1918\n",
            "\n"
          ]
        }
      ],
      "source": [
        "def compute_FF(aircraft, M):\n",
        "    '''\n",
        "    Compute Form Factor drag for aerodynamic surfaces (wing, horizontal stabilizer and vertical stabilier) and fuselage\n",
        "    '''\n",
        "\n",
        "    for component, properties in aircraft.items():\n",
        "        if component in ['wing', 'ht', 'vt']:\n",
        "            x_c_m = aircraft[component]['CMA']\n",
        "            t_c   = aircraft[component]['thickness']\n",
        "            Lambda = aircraft[component]['sweep']\n",
        "\n",
        "            term1 = 1 + ((0.6 / x_c_m) * t_c) + (100 * (t_c ** 4))\n",
        "            term2 = 1.34 * (M ** 0.18) * (np.cos(np.radians(Lambda)) ** 0.28)\n",
        "            if properties['hinge']:\n",
        "                aircraft[component]['FF'] = 1.1 * term1 * term2\n",
        "            else:\n",
        "                aircraft[component]['FF'] = term1 * term2\n",
        "\n",
        "        if component == 'fus':\n",
        "            f = aircraft['fus']['length'] / aircraft['fus']['diameter']\n",
        "            aircraft['fus']['FF'] = 0.9 + 5 / (f ** 1.5) + f / 400\n",
        "\n",
        "    return aircraft\n",
        "\n",
        "M = aircraft['definitions']['V_cruise']/vel_som\n",
        "\n",
        "aircraft = compute_FF(aircraft, M)\n",
        "\n",
        "print(f\"\"\"\n",
        "Wing form factor: {aircraft[\"wing\"][\"FF\"]:.4f}\n",
        "Horizontal stabilizer form factor:  {aircraft[\"ht\"][\"FF\"]:.4f}\n",
        "Vertical stabilizer form factor: {aircraft[\"vt\"][\"FF\"]:.4f}\n",
        "Fuselage form factor: {aircraft[\"fus\"][\"FF\"]:.4f}\n",
        "\"\"\")"
      ]
    },
    {
      "cell_type": "markdown",
      "metadata": {
        "id": "9UsGmphPFsoL"
      },
      "source": [
        "## Fatores de interferência\n",
        "\n",
        "Correspondem às porcentagens de acréscimo de $C_{D_0}$ para cada componente. Segundo Raymer, capítulo 12.5.5, tem-se os valores de referência:\n",
        "\n",
        "1. Nacelle: para asa alta e média, interferência desprezível, $Q\\approx$1.0; para asa baixa, $Q\\approx$1.1-1.4.\n",
        "2. Fuselagem: interferência desprezível, $Q=1$\n",
        "3. Empenagens: para convenconal, $Q=1.05$. Para cauda em T, $Q=$\n"
      ]
    },
    {
      "cell_type": "code",
      "execution_count": 212,
      "metadata": {
        "id": "QrJ4YgRFKjeW"
      },
      "outputs": [],
      "source": [
        "aircraft['wing']['Q_int'] = 1\n",
        "aircraft['ht']['Q_int'] = 1.05\n",
        "aircraft['vt']['Q_int'] = 1.05\n",
        "aircraft['fus']['Q_int'] = 1"
      ]
    },
    {
      "cell_type": "markdown",
      "metadata": {
        "id": "YYVMSDHILlk5"
      },
      "source": [
        "## Arrasto de miscelânia\n",
        "\n",
        "Compreende aos arrastos de componentes diferentes à asa, empenagens, fuselagem e nacelle do motor. O método proposto para estes componentes adicionais externos envolve a estimativa de $D/q$, para Conforme Raymer, capítulo 12.5.6, temos como exemplos principais:\n",
        "- Tanques de combustível externos\n",
        "- Bombas e mísseis\n",
        "- Pilone\n",
        "- *Upsweep* de fuselagem\n",
        "- Componentes com área exposta na região frontal\n",
        "\n",
        "Para o conceito da aeronave projetada, o único relevante é o *upsweep* da fuselagem, dado por:\n",
        "\n",
        "$(D/q)_{upsweep} = 3.83\\mu^{2.5}A_{max}$\n",
        "\n",
        "Onde $\\mu$ é o ângulo de *upsweep* e $A_{max}$ é a área de seção transversal máxima.\n"
      ]
    },
    {
      "cell_type": "code",
      "execution_count": 213,
      "metadata": {
        "colab": {
          "base_uri": "https://localhost:8080/"
        },
        "id": "oY7HvmEldlg9",
        "outputId": "126ee728-713e-4838-e596-a2b2e5adec7f"
      },
      "outputs": [
        {
          "name": "stdout",
          "output_type": "stream",
          "text": [
            "Cd de miscelânia = 0.0003\n"
          ]
        }
      ],
      "source": [
        "mu = np.arctan(631/8656)\n",
        "Amax = np.pi*0.8**2\n",
        "\n",
        "Cd_misc = 3.83*mu**2.5*Amax / aircraft['wing']['S']\n",
        "print(f'Cd de miscelânia = {Cd_misc:.4f}')"
      ]
    },
    {
      "cell_type": "markdown",
      "metadata": {},
      "source": [
        "## Cálculo do arrasto parasita total"
      ]
    },
    {
      "cell_type": "code",
      "execution_count": 214,
      "metadata": {
        "colab": {
          "base_uri": "https://localhost:8080/"
        },
        "id": "gQyq7hqNja1l",
        "outputId": "4f2d53f8-8044-41ae-d26f-1ea9b70cfabb"
      },
      "outputs": [
        {
          "name": "stdout",
          "output_type": "stream",
          "text": [
            "Componente de arrasto parasita em wing vale = 0.0061\n",
            "\n",
            "Componente de arrasto parasita em ht vale = 0.0016\n",
            "\n",
            "Componente de arrasto parasita em vt vale = 0.0010\n",
            "\n",
            "Componente de arrasto parasita em fus vale = 0.0054\n",
            "\n",
            "Arrasto parasita total sem componente de miscelânia = 0.0141\n",
            "\n",
            "Arrasto parasita total com componente de miscelânia = 0.0144\n",
            "\n"
          ]
        }
      ],
      "source": [
        "Cd_p = 0\n",
        "\n",
        "for component, values in aircraft.items():\n",
        "    if 'Cf' in values:\n",
        "        Cd_c = values[\"Cf\"]*values['FF']*values['Q_int']*values['S_wet'] / aircraft[\"wing\"][\"S\"]\n",
        "        print(f'Componente de arrasto parasita em {component} vale = {Cd_c:.4f}\\n')\n",
        "        Cd_p += Cd_c\n",
        "\n",
        "print(f'Arrasto parasita total sem componente de miscelânia = {Cd_p:.4f}\\n')\n",
        "\n",
        "Cd_p += Cd_misc\n",
        "\n",
        "aircraft[\"definitions\"][\"CD0\"] = Cd_p\n",
        "\n",
        "print(f'Arrasto parasita total com componente de miscelânia = {Cd_p:.4f}\\n')"
      ]
    },
    {
      "cell_type": "markdown",
      "metadata": {
        "id": "p_A5wX6v0dJF"
      },
      "source": [
        "# Curvas de arrasto\n",
        "\n",
        "Para prosseguir com a análise de motorização, traça-se os gráficos de arrasto por velocidade, separando as curvas de arrasto parasita, induzido e total.\n",
        "\n",
        "O arrasto parasita é calculado pela relação\n",
        "\n",
        "$D_p = \\dfrac{1}{2} \\rho v^2 S C_{D_p}$\n",
        "\n",
        "onde $\\rho$ é dada a nível do mar, $v$ é dada em $KCAS$, $S$ é a área de referência da asa e $C_{D_p}$ é o valor do coeficiente de arrasto parasita, calculado pelo método por contribuição de componentes. Obtém-se, portando, $D_p(v)$.\n",
        "\n",
        "Já o arrasto induzido é obtido assumindo-se voo trimado, onde $L=W$. Sendo assim, o $C_L$ da aeronave é dado por\n",
        "\n",
        "$C_L = \\dfrac{2W}{\\rho v^2 S }$,\n",
        "\n",
        "com as mesmas condições mencionadas acima para o arrasto parasita. Portanto, o arrasto induzido é dado por\n",
        "\n",
        "$D_i = \\dfrac{1}{2} \\rho v^2 S \\cdot \\dfrac{1}{\\pi e AR} \\cdot \\left(\\dfrac{2W}{\\rho v^2 S }\\right)^2$.\n",
        "\n",
        "Novamente, $D_i(v)$. Por fim, o arrasto total é dado por\n",
        "\n",
        "$D_{total} = D_p + D_i$"
      ]
    },
    {
      "cell_type": "code",
      "execution_count": 215,
      "metadata": {
        "id": "0Ai9RW1PWUCp"
      },
      "outputs": [],
      "source": [
        "vector_v = np.linspace(15,1.4 * aircraft['definitions']['V_cruise'], 80)\n",
        "# vector_v = np.linspace(65,75, 80)\n",
        "isa_SL = Atmosphere(0)\n",
        "rho_SL = isa_SL.density[0]\n",
        "\n",
        "D_p = 0.5 * rho_SL * vector_v ** 2 * aircraft['wing']['S'] * Cd_p"
      ]
    },
    {
      "cell_type": "markdown",
      "metadata": {
        "id": "yUaU7abveSyZ"
      },
      "source": [
        "- Comentário sobre o fator de Oswald $e$\n",
        "\n",
        "Segundo Raymer, uma das abordagens plausíveis de serem adotadas para estimar o fator de Oswald (que normalmente recai entre 0.7 e 0.85) é dada pelas equações abaixo:\n",
        "\n",
        "**Sem enflechamento**:\n",
        "\n",
        "$e = 1.78 (1 - 0.045 AR^{0.68}) - 0.64$\n",
        "\n",
        "**Com enflechamento acima de 30º**:\n",
        "\n",
        "$e = 4.61(1-0.045AR^{0.68})(cos(\\Lambda_{LE}))^{0.15} - 3.1$\n",
        "\n",
        "Para **valores entre 0 e 30º de enflechamento**, realiza-se uma interpolação linear entre os dois valores obtidos pelas equações.\n",
        "\n",
        "Caso haja winglets ou endplates, deve-se empregar um alongamento de asa efetivo, dado por:\n",
        "\n",
        "**Endplate**:\n",
        "\n",
        "$AR_{eff} = AR (1 + 1.9h/b)$\n",
        "\n",
        "**Winglet**:\n",
        "\n",
        "$AR_{eff} = AR ( 1 + h/b)^2$\n",
        "\n",
        "onde h é a altura do dispositivo de ponta de asa, e b é a envergadura de asa.\n"
      ]
    },
    {
      "cell_type": "code",
      "execution_count": 216,
      "metadata": {},
      "outputs": [
        {
          "data": {
            "text/plain": [
              "10.444611018775008"
            ]
          },
          "execution_count": 216,
          "metadata": {},
          "output_type": "execute_result"
        }
      ],
      "source": [
        "aircraft['wing']['AR']"
      ]
    },
    {
      "cell_type": "code",
      "execution_count": 217,
      "metadata": {
        "id": "O7GK8e8yd2iC"
      },
      "outputs": [],
      "source": [
        "def compute_oswald(AR, Lambda = 0):\n",
        "    if Lambda >= np.pi/6:\n",
        "        return\n",
        "    elif Lambda == 0:\n",
        "        return 1.78 * (1 - 0.045*AR**(0.68)) - 0.64\n",
        "    else:\n",
        "        val_max = 4.61 * (1 - 0.045*AR**(0.68))*(np.cos(Lambda))**0.15 - 3.1\n",
        "        val_min = 1.78 * (1 - 0.045*AR**(0.68)) - 0.64\n",
        "        Lambda_min = 0\n",
        "        Lambda_max = np.pi/6\n",
        "        return np.interp(Lambda, [Lambda_min, Lambda_max], [val_min, val_max])"
      ]
    },
    {
      "cell_type": "code",
      "execution_count": 218,
      "metadata": {
        "colab": {
          "base_uri": "https://localhost:8080/"
        },
        "id": "-c6YiDRviWzO",
        "outputId": "c6d32b73-2003-45ca-c0ac-ba175fb5aa6d"
      },
      "outputs": [
        {
          "name": "stdout",
          "output_type": "stream",
          "text": [
            "Alongamento = 10.44\n",
            "Coeficiente de Oswald = 0.75\n",
            "Fator k = 0.0409\n",
            "CDi = [8.63496449e+00 5.35239285e+00 3.49172486e+00 2.37380173e+00\n",
            " 1.66957003e+00 1.20817890e+00 8.95719533e-01 6.78050599e-01\n",
            " 5.22664280e-01 4.09347212e-01 3.25142076e-01 2.61517626e-01\n",
            " 2.12722069e-01 1.74794673e-01 1.44955784e-01 1.21220929e-01\n",
            " 1.02151136e-01 8.66881026e-02 7.40433277e-02 6.36222923e-02\n",
            " 5.49717852e-02 4.77427885e-02 4.16639791e-02 3.65225759e-02\n",
            " 3.21503388e-02 2.84132245e-02 2.52036684e-02 2.24347720e-02\n",
            " 2.00358870e-02 1.79492337e-02 1.61272899e-02 1.45307619e-02\n",
            " 1.31269957e-02 1.18887253e-02 1.07930797e-02 9.82079222e-03\n",
            " 8.95556520e-03 8.18355872e-03 7.49297590e-03 6.87372538e-03\n",
            " 6.31714527e-03 5.81577632e-03 5.36317484e-03 4.95375771e-03\n",
            " 4.58267350e-03 4.24569487e-03 3.93912854e-03 3.65973951e-03\n",
            " 3.40468722e-03 3.17147152e-03 2.95788688e-03 2.76198329e-03\n",
            " 2.58203308e-03 2.41650233e-03 2.26402646e-03 2.12338924e-03\n",
            " 1.99350455e-03 1.87340081e-03 1.76220730e-03 1.65914244e-03\n",
            " 1.56350346e-03 1.47465745e-03 1.39203358e-03 1.31511619e-03\n",
            " 1.24343880e-03 1.17657881e-03 1.11415286e-03 1.05581273e-03\n",
            " 1.00124165e-03 9.50151184e-04 9.02278289e-04 8.57382838e-04\n",
            " 8.15245352e-04 7.75664998e-04 7.38457797e-04 7.03455032e-04\n",
            " 6.70501814e-04 6.39455806e-04 6.10186067e-04 5.82572029e-04]\n"
          ]
        }
      ],
      "source": [
        "AR = aircraft[\"wing\"][\"AR\"]\n",
        "\n",
        "aircraft[\"definitions\"][\"e\"] = compute_oswald(AR)\n",
        "\n",
        "W = aircraft['definitions']['MTOW']\n",
        "S = aircraft['wing']['S']\n",
        "e = aircraft[\"definitions\"][\"e\"]\n",
        "\n",
        "CL_for_Cdi_induced = 2 * W * g / (rho_SL * vector_v ** 2 * S)\n",
        "\n",
        "K = 1 / (np.pi * AR * e)\n",
        "\n",
        "Cd_i = K * CL_for_Cdi_induced ** 2\n",
        "\n",
        "D_i = 0.5 * rho_SL * vector_v ** 2 * aircraft['wing']['S'] * Cd_i\n",
        "\n",
        "print(f'Alongamento = {AR:.2f}')\n",
        "print(f'Coeficiente de Oswald = {e:.2f}')\n",
        "print(f'Fator k = {K:.4f}')\n",
        "print(f'CDi = {Cd_i}')"
      ]
    },
    {
      "cell_type": "code",
      "execution_count": 219,
      "metadata": {
        "colab": {
          "base_uri": "https://localhost:8080/",
          "height": 466
        },
        "id": "uQklYAZpkNeY",
        "outputId": "60739938-f5d2-4192-d619-37d22224eb99"
      },
      "outputs": [
        {
          "data": {
            "text/plain": [
              "<matplotlib.legend.Legend at 0x29306dbffa0>"
            ]
          },
          "execution_count": 219,
          "metadata": {},
          "output_type": "execute_result"
        },
        {
          "data": {
            "image/png": "[encoded data removed]",
            "text/plain": [
              "<Figure size 640x480 with 1 Axes>"
            ]
          },
          "metadata": {},
          "output_type": "display_data"
        }
      ],
      "source": [
        "plt.figure()\n",
        "plt.plot(vector_v, D_p, 'b', label='Arrasto parasita')\n",
        "plt.plot(vector_v, D_i, 'r', label='Arrasto induzido')\n",
        "plt.plot(vector_v, D_p + D_i, 'g', label='Arrasto total')\n",
        "plt.xlabel('Velocidade CAS [m/s]')\n",
        "plt.ylabel('Arrasto [N]')\n",
        "plt.grid()\n",
        "plt.legend()"
      ]
    },
    {
      "cell_type": "code",
      "execution_count": 220,
      "metadata": {
        "colab": {
          "base_uri": "https://localhost:8080/"
        },
        "id": "SUyUs9DnUsvD",
        "outputId": "c90b114b-6002-4ff8-856e-f2be311b0d05"
      },
      "outputs": [
        {
          "name": "stdout",
          "output_type": "stream",
          "text": [
            "Resumo dos dados:\n",
            "{\n",
            "  \"definitions\": {\n",
            "    \"MTOW\": 8618.4,\n",
            "    \"V_cruise\": 118.22,\n",
            "    \"W_empty/W\": 0.6,\n",
            "    \"W_crew\": 200,\n",
            "    \"operational ceiling\": 7620.0,\n",
            "    \"W_empty\": 5171.04,\n",
            "    \"wing_load\": 1902.27342384,\n",
            "    \"Cl cruise\": 0.22222091806664124,\n",
            "    \"Thrust_to_weight\": 0.05043341839359266,\n",
            "    \"Cd cruise\": 0.011797221617540201,\n",
            "    \"V_stall\": 40.43026829075338,\n",
            "    \"W_fuel\": 1778.7361959610216,\n",
            "    \"W_payload\": 1468.6238040389785,\n",
            "    \"WL\": 7195.411043231183,\n",
            "    \"CD0\": 0.014375185967063777,\n",
            "    \"e\": 0.745107159431677\n",
            "  },\n",
            "  \"engine\": {\n",
            "    \"power\": 1193104.0,\n",
            "    \"number_of_engines\": 2,\n",
            "    \"thrust cruise\": 4263.969209947555,\n",
            "    \"SFC_cruise\": 0.0001801565115408669,\n",
            "    \"SFC_loiter\": 0.0002161878138490403\n",
            "  },\n",
            "  \"wing\": {\n",
            "    \"S\": 42.22273086161542,\n",
            "    \"S_flap\": 4.6399512,\n",
            "    \"S_aileron\": 3.181312,\n",
            "    \"b\": 21,\n",
            "    \"CMA\": 1.965,\n",
            "    \"S_wet\": 84.4,\n",
            "    \"Percent_laminar\": 0.1,\n",
            "    \"sweep\": 0,\n",
            "    \"taper_ratio\": 1,\n",
            "    \"hinge\": false,\n",
            "    \"thickness\": 0.12,\n",
            "    \"material\": \"Aerospace aluminum\",\n",
            "    \"AR\": 10.444611018775008,\n",
            "    \"Cf\": 0.0025611444788325157,\n",
            "    \"FF\": 1.1913728498053122,\n",
            "    \"Q_int\": 1\n",
            "  },\n",
            "  \"ht\": {\n",
            "    \"S\": 9.735911999999999,\n",
            "    \"S_elevator\": 4.0988744,\n",
            "    \"b\": 6.5,\n",
            "    \"CMA\": 1.491,\n",
            "    \"S_wet\": 18.4,\n",
            "    \"Percent_laminar\": 0.1,\n",
            "    \"sweep\": 0,\n",
            "    \"taper_ratio\": 1,\n",
            "    \"VH\": 0.88,\n",
            "    \"Ce_Ct\": 0.4,\n",
            "    \"hinge\": true,\n",
            "    \"thickness\": 0.12,\n",
            "    \"material\": \"Aerospace aluminum\",\n",
            "    \"AR\": 4.339603726903038,\n",
            "    \"Cf\": 0.002685479566645093,\n",
            "    \"FF\": 1.324947271646028,\n",
            "    \"Q_int\": 1.05\n",
            "  },\n",
            "  \"vt\": {\n",
            "    \"S\": 6.6809768,\n",
            "    \"S_rudder\": 2.6755896,\n",
            "    \"b\": 2.75,\n",
            "    \"CMA\": 2.156,\n",
            "    \"S_wet\": 12.3,\n",
            "    \"Percent_laminar\": 0.1,\n",
            "    \"sweep\": 20,\n",
            "    \"taper_ratio\": 1,\n",
            "    \"VV\": 0.5,\n",
            "    \"Cr_Cv\": 0.4,\n",
            "    \"hinge\": true,\n",
            "    \"thickness\": 0.12,\n",
            "    \"material\": \"Aerospace aluminum\",\n",
            "    \"AR\": 1.1319452568672295,\n",
            "    \"Cf\": 0.002521199069849526,\n",
            "    \"FF\": 1.2839293302943517,\n",
            "    \"Q_int\": 1.05\n",
            "  },\n",
            "  \"fus\": {\n",
            "    \"length\": 18,\n",
            "    \"S_wet\": 95.9,\n",
            "    \"diameter\": 2.6,\n",
            "    \"Percent_laminar\": 0,\n",
            "    \"material\": \"Aerospace aluminum\",\n",
            "    \"Cf\": 0.001993843940414404,\n",
            "    \"FF\": 1.1917943687204477,\n",
            "    \"Q_int\": 1\n",
            "  },\n",
            "  \"landing gear\": {\n",
            "    \"retractable\": true,\n",
            "    \"height\": 2.1\n",
            "  },\n",
            "  \"missao\": {\n",
            "    \"Perfil\": [\n",
            "      \"Take off\",\n",
            "      \"Ascending\",\n",
            "      \"Cruise_1\",\n",
            "      \"Descending\",\n",
            "      \"Loitter\",\n",
            "      \"Cruise_2\",\n",
            "      \"Landing\"\n",
            "    ],\n",
            "    \"Range_1\": 1925991.27824,\n",
            "    \"Range_2\": 160900,\n",
            "    \"Loitter_time\": 1200\n",
            "  }\n",
            "}\n"
          ]
        }
      ],
      "source": [
        "print('Resumo dos dados:')\n",
        "print(json.dumps(aircraft, indent = 2))"
      ]
    },
    {
      "cell_type": "markdown",
      "metadata": {
        "id": "U4h5SxpvK6m8"
      },
      "source": [
        "# Escolha de motorização\n",
        "\n",
        "Estimativa de arrasto (compor parasita e induzido) -> Traçar D x V -> Análise de constraints de performance -> Curva T/W x W/S -> define-se motor\n",
        "\n",
        "1. Análise de constraints para:\n",
        "- Decolagem\n",
        "- Subida\n",
        "- Teto máximo*\n",
        "- Cruzeiro / curvas* / $V_{max}$*\n",
        "- Pouso\n",
        "\n",
        "* Notas do Gundmundsson\n",
        "\n",
        "2. Escolha de T/W e W/S (3 valores)\n",
        "\n",
        "3. Comparar/analisar W/S constraints com valores previamente estimados. Se necessário, corrigir valores!!\n",
        "\n",
        "4. Com T/W, obter T, em HP, para o produto (3 valores) e selecionar o motor \"comercial\" que satisfaça os requisitos de projeto:\n",
        "- Quanto à Potência / Tração\n",
        "- Quanto ao peso\n",
        "- Quanto à fixação na aeronave e volume instalado\n",
        "- Quanto à economia/consumo de cobustível\n",
        "\n",
        "5. Criar planilha / *dataframe* contendo dados do motor para análise de desempenho"
      ]
    },
    {
      "cell_type": "markdown",
      "metadata": {
        "id": "52SgqFH2RjIM"
      },
      "source": [
        "## Análise de constraints"
      ]
    },
    {
      "cell_type": "code",
      "execution_count": 221,
      "metadata": {
        "colab": {
          "base_uri": "https://localhost:8080/"
        },
        "id": "iuOwZqdTK3FE",
        "outputId": "4303741e-701a-4c7e-8a18-f30d98b9bfbf"
      },
      "outputs": [
        {
          "name": "stdout",
          "output_type": "stream",
          "text": [
            "[0.09474448 0.09618    0.09761552 0.09905104 0.10048657 0.10192209\n",
            " 0.10335761 0.10479313 0.10622865 0.10766418 0.1090997  0.11053522\n",
            " 0.11197074 0.11340627 0.11484179 0.11627731 0.11771283 0.11914836\n",
            " 0.12058388 0.1220194  0.12345492 0.12489045 0.12632597 0.12776149\n",
            " 0.12919701 0.13063253 0.13206806 0.13350358 0.1349391  0.13637462\n",
            " 0.13781015 0.13924567 0.14068119 0.14211671 0.14355224 0.14498776\n",
            " 0.14642328 0.1478588  0.14929433 0.15072985 0.15216537 0.15360089\n",
            " 0.15503641 0.15647194 0.15790746 0.15934298 0.1607785  0.16221403\n",
            " 0.16364955 0.16508507 0.16652059 0.16795612 0.16939164 0.17082716\n",
            " 0.17226268 0.17369821 0.17513373 0.17656925 0.17800477 0.17944029\n",
            " 0.18087582 0.18231134 0.18374686 0.18518238 0.18661791 0.18805343\n",
            " 0.18948895 0.19092447 0.19236    0.19379552 0.19523104 0.19666656\n",
            " 0.19810209 0.19953761 0.20097313 0.20240865 0.20384417 0.2052797\n",
            " 0.20671522 0.20815074 0.20958626 0.21102179 0.21245731 0.21389283\n",
            " 0.21532835 0.21676388 0.2181994  0.21963492 0.22107044 0.22250597\n",
            " 0.22394149 0.22537701 0.22681253 0.22824806 0.22968358 0.2311191\n",
            " 0.23255462 0.23399014 0.23542567 0.23686119]\n"
          ]
        }
      ],
      "source": [
        "## Decolagem\n",
        "beta_dec  = 0.97  #relação de peso na decolagem e peso nominal\n",
        "K_dec     = 1.2   # relação V_dec/V_estol\n",
        "alpha_dec = 1     # relação T_i/T_nominal\n",
        "S_g_dec   = 700   # distância de decolagem\n",
        "Cl_max    = 1.7   # verificar ClxAlpha\n",
        "W_S_dec   = np.linspace(1000, 2500, 100)\n",
        "\n",
        "\n",
        "T_W_dec = ((beta_dec**2 * K_dec**2)/(alpha_dec*9.81*S_g_dec*rho_SL*Cl_max))*(W_S_dec)\n",
        "print(T_W_dec)"
      ]
    },
    {
      "cell_type": "code",
      "execution_count": 222,
      "metadata": {
        "colab": {
          "base_uri": "https://localhost:8080/"
        },
        "id": "Wt67BAu28_d1",
        "outputId": "78c844ce-b504-4f64-d047-d092f4e8c527"
      },
      "outputs": [
        {
          "name": "stdout",
          "output_type": "stream",
          "text": [
            "[0.20760401 0.20706598 0.20654948 0.20605355 0.20557733 0.20511997\n",
            " 0.2046807  0.20425876 0.20385347 0.20346414 0.20309015 0.2027309\n",
            " 0.20238583 0.2020544  0.20173609 0.20143042 0.20113693 0.20085518\n",
            " 0.20058474 0.20032523 0.20007625 0.19983744 0.19960846 0.19938898\n",
            " 0.19917868 0.19897725 0.19878441 0.19859988 0.1984234  0.19825471\n",
            " 0.19809356 0.19793973 0.19779299 0.19765313 0.19751993 0.19739321\n",
            " 0.19727277 0.19715842 0.19705    0.19694733 0.19685025 0.1967586\n",
            " 0.19667223 0.196591   0.19651477 0.1964434  0.19637676 0.19631473\n",
            " 0.19625718 0.196204   0.19615508 0.1961103  0.19606956 0.19603276\n",
            " 0.1959998  0.19597058 0.19594502 0.19592302 0.1959045  0.19588937\n",
            " 0.19587755 0.19586897 0.19586355 0.19586121 0.19586189 0.19586551\n",
            " 0.19587201 0.19588133 0.19589339 0.19590815 0.19592553 0.19594549\n",
            " 0.19596797 0.1959929  0.19602025 0.19604995 0.19608196 0.19611623\n",
            " 0.19615272 0.19619137 0.19623214 0.196275   0.19631989 0.19636677\n",
            " 0.19641562 0.19646638 0.19651902 0.1965735  0.19662979 0.19668785\n",
            " 0.19674764 0.19680915 0.19687232 0.19693713 0.19700356 0.19707156\n",
            " 0.19714112 0.1972122  0.19728477 0.1973588 ]\n"
          ]
        }
      ],
      "source": [
        "## Subida\n",
        "beta_climb  = 0.955               # relação de peso na subida e peso total\n",
        "alpha_climb = 0.9                 # relação de tração\n",
        "Cd_0        = 0.0136\n",
        "V_climb     = 1.8*aircraft['definitions']['V_stall']\n",
        "q_climb     = 0.5*rho_SL*V_climb**2\n",
        "K_climb     = 1*K                 # considerando Cl_climb = 1\n",
        "dh_dt_climb = 10                  # [m/s] - razão de subida\n",
        "W_S_climb   = np.linspace(1000, 2500, 100)\n",
        "\n",
        "T_W_climb = (beta_climb/alpha_climb)*((Cd_0*q_climb/beta_climb)*(1/W_S_climb) + (beta_climb*K_climb/q_climb)*W_S_climb + ((dh_dt_climb)/(V_climb)))\n",
        "print(T_W_climb)"
      ]
    },
    {
      "cell_type": "code",
      "execution_count": 223,
      "metadata": {
        "colab": {
          "base_uri": "https://localhost:8080/"
        },
        "id": "7lJW1T3TBEHa",
        "outputId": "e726ddf1-90d6-4165-da46-bf1781b94649"
      },
      "outputs": [
        {
          "name": "stdout",
          "output_type": "stream",
          "text": [
            "[0.32294868 0.31837103 0.31393161 0.3096244  0.30544375 0.30138431\n",
            " 0.29744102 0.29360911 0.28988407 0.28626162 0.28273771 0.27930851\n",
            " 0.27597036 0.27271982 0.26955359 0.26646856 0.26346176 0.26053035\n",
            " 0.25767164 0.25488307 0.2521622  0.24950668 0.24691428 0.24438289\n",
            " 0.24191047 0.23949507 0.23713484 0.23482799 0.23257282 0.23036769\n",
            " 0.22821106 0.22610141 0.2240373  0.22201737 0.22004027 0.21810475\n",
            " 0.21620957 0.21435356 0.21253559 0.21075458 0.20900948 0.20729927\n",
            " 0.20562301 0.20397973 0.20236856 0.20078862 0.19923908 0.19771912\n",
            " 0.19622797 0.19476487 0.19332911 0.19191998 0.19053681 0.18917893\n",
            " 0.18784572 0.18653657 0.18525088 0.18398808 0.18274762 0.18152896\n",
            " 0.18033159 0.17915499 0.17799869 0.17686221 0.17574509 0.17464689\n",
            " 0.17356718 0.17250555 0.17146158 0.17043489 0.16942509 0.16843182\n",
            " 0.16745472 0.16649343 0.16554762 0.16461695 0.16370112 0.1627998\n",
            " 0.1619127  0.16103952 0.16017997 0.15933378 0.15850067 0.15768039\n",
            " 0.15687267 0.15607727 0.15529394 0.15452245 0.15376257 0.15301406\n",
            " 0.15227672 0.15155032 0.15083467 0.15012956 0.14943478 0.14875016\n",
            " 0.14807549 0.14741061 0.14675532 0.14610945]\n"
          ]
        }
      ],
      "source": [
        "## Cruzeiro\n",
        "beta_cruz  =  0.87    # relação de peso no cruzeiro e peso total\n",
        "alpha_cruz =  0.5     # relação de potência utilizada\n",
        "Cd_0       =  0.041\n",
        "q_cruz     =  0.5*rho*aircraft['definitions']['V_cruise']**2\n",
        "K_cruz     =  0.5*K   # considerando Cl_cruz = 0.5\n",
        "W_S_cruz   = np.linspace(1000, 2500, 100)\n",
        "\n",
        "T_W_cruz = (beta_cruz/alpha_cruz)*((Cd_0*q_cruz/beta_cruz)*(1/W_S_cruz) + (beta_cruz*K_cruz/q_cruz)*W_S_cruz)\n",
        "print(T_W_cruz)"
      ]
    },
    {
      "cell_type": "code",
      "execution_count": 224,
      "metadata": {
        "colab": {
          "base_uri": "https://localhost:8080/"
        },
        "id": "2YWuAv4k-l2-",
        "outputId": "91cfac09-c1ed-424d-db8b-3c2296714a90"
      },
      "outputs": [
        {
          "name": "stdout",
          "output_type": "stream",
          "text": [
            "2125.7370750909163\n"
          ]
        }
      ],
      "source": [
        "## Pouso\n",
        "beta_pouso =  0.853  # relação de peso no pouso e peso nominal\n",
        "K_pouso    =  1.3    # relação V_pouso/V_estol\n",
        "mi_pouso   =  0.3    # coeficiente de atrito\n",
        "Cl_max     =  1.7    # verificar ClxAlpha\n",
        "S_l_pouso  =  500   #[m] - distância desde um obstáculo a 15m de altura até a parada da aeronave\n",
        "\n",
        "(W_S_pouso) = (S_l_pouso*9.81*mi_pouso*rho_SL*Cl_max)/(beta_pouso*K_pouso**2)\n",
        "\n",
        "print(W_S_pouso)"
      ]
    },
    {
      "cell_type": "code",
      "execution_count": 225,
      "metadata": {
        "colab": {
          "base_uri": "https://localhost:8080/",
          "height": 466
        },
        "id": "pZdGidR5Qnwi",
        "outputId": "a3e6a2e9-9d7b-4d55-ac96-7a295d9f1033"
      },
      "outputs": [
        {
          "data": {
            "text/plain": [
              "<matplotlib.legend.Legend at 0x29306e88400>"
            ]
          },
          "execution_count": 225,
          "metadata": {},
          "output_type": "execute_result"
        },
        {
          "data": {
            "image/png": "[encoded data removed]",
            "text/plain": [
              "<Figure size 640x480 with 1 Axes>"
            ]
          },
          "metadata": {},
          "output_type": "display_data"
        }
      ],
      "source": [
        "plt.figure()\n",
        "# Plot constraints lines\n",
        "plt.plot(W_S_dec, T_W_dec, 'b', label='T/W_dec')\n",
        "plt.plot(W_S_climb, T_W_climb, 'r', label='T/W_climb')\n",
        "plt.plot(W_S_cruz, T_W_cruz, 'g', label='T/W_cruz')\n",
        "plt.vlines(W_S_pouso, 0, 0.5, 'y', linestyles= '--', label='W/S_pouso')\n",
        "# Plot aircraft points\n",
        "plt.scatter(aircraft['definitions']['wing_load'], aircraft['definitions']['Thrust_to_weight'], s=5,c='k', marker ='s')\n",
        "plt.annotate('Actual aircraft', (aircraft['definitions']['wing_load']-200, aircraft['definitions']['Thrust_to_weight']+0.015))\n",
        "\n",
        "plt.scatter(1850, 0.24, s=5,c='m', marker='o')\n",
        "plt.annotate('Mean database', (1650, 0.25))\n",
        "# Candidate points\n",
        "plt.scatter(2100, 0.21, s=10,c='r', marker='x')\n",
        "plt.annotate('A', (2100-20, 0.21+0.01))\n",
        "\n",
        "plt.scatter(2100, 0.24, s=10,c='b', marker='x')\n",
        "plt.annotate('B', (2100-20, 0.24+0.01))\n",
        "\n",
        "plt.scatter(2000, 0.21, s=10,c='y', marker='x')\n",
        "plt.annotate('C', (2000-20, 0.21+0.01))\n",
        "# -----------------------------------------------\n",
        "plt.xlabel('Carga alar [N/m^2]')\n",
        "plt.ylabel('Peso-Potência')\n",
        "plt.grid()\n",
        "plt.legend(loc='upper right')"
      ]
    },
    {
      "cell_type": "code",
      "execution_count": 226,
      "metadata": {},
      "outputs": [
        {
          "name": "stdout",
          "output_type": "stream",
          "text": [
            "1809.8639999999998 2068.4159999999997\n"
          ]
        }
      ],
      "source": [
        "## Cálculo da tração dos motores\n",
        "# T_W_final entre 0.21 e 0.24\n",
        "eta_T = 0.65\n",
        "T_W_i = 0.21\n",
        "T_W_f = 0.24\n",
        "T_1 = aircraft['definitions']['MTOW']*0.21\n",
        "T_2 = aircraft['definitions']['MTOW']*0.24\n",
        "\n",
        "\n",
        "print(T_1, T_2)"
      ]
    },
    {
      "cell_type": "code",
      "execution_count": 227,
      "metadata": {},
      "outputs": [],
      "source": [
        "aircraft['engine']['weight'] = 229.5"
      ]
    },
    {
      "cell_type": "markdown",
      "metadata": {
        "id": "JeJpqf3DMrsE"
      },
      "source": [
        "# Segunda estimativa de peso dos componentes\n",
        "\n",
        "Em seguida, peso e balanceamento\n",
        "\n",
        "# componentes:\n",
        "\n",
        "* Fuselagem\n",
        "* Asa\n",
        "* H_t\n",
        "* V_t\n",
        "* Gmp(motores, helices, bercos, etc)\n",
        "* trem de Pouso\n",
        "* Comandos\n",
        "* Aviônica\n",
        "* sistemas(hidraulicos, eletricos, etc)\n",
        "* Assentos e mobiliaro\n",
        "* Ocupantes\n",
        "* Bagagem\n",
        "* Combustivel, etc\n",
        "\n",
        "# Procedimento:\n",
        "\n",
        "1.   Desenhar a aeronave em vista lateral(croqui)-escala\n",
        "2.   Estimar o peso e C.G de cada Componente\n",
        "3.   Localizar No Croqui\n",
        "4.   Inserir \"Datum\" no croqui \n",
        "5.   Montar tabela com pesos  e estações de C.G\n",
        "6.   Estimar momento e soma de momentos \n",
        "7.   Estimar C.G para :\n",
        "     * Peso Total \n",
        "     * Peso Vazio \n",
        "     * Peso Total -(50% ocup e bagagem)\n",
        "     * Peso Total -(25%,50%e 75% comb)\n",
        "\n",
        "# Observação : \n",
        "\n",
        "* \"Datum\"= Eixo de referencia-----Assume-se no nariz da aeronave \n",
        "\n"
      ]
    },
    {
      "cell_type": "code",
      "execution_count": 295,
      "metadata": {},
      "outputs": [
        {
          "name": "stdout",
          "output_type": "stream",
          "text": [
            "dict_keys(['aircraft_data', 'aircraft_components', 'wing_data', 'wing_structural_conditions', 'engineering_materials', 'tail_configurations', 'kf_values', 'klg_values', 'engine_comparison', 'components_mass', 'aircraft_mtow_equipment'])\n"
          ]
        }
      ],
      "source": [
        "with open(r\"weight_estimation_data.json\", \"r\") as file:\n",
        "    weight_estimation_data = json.load(file)\n",
        "\n",
        "print(weight_estimation_data.keys())\n",
        "\n",
        "def calculate_wing_weight(aircraft, weight_estimation_data):\n",
        "    \"\"\"\n",
        "    Estimate wing weight, based on geometry characteristics and statistical models from M. Saadrey, \"Aircraft Design - Systems Engineers Approach (2012)\"\n",
        "    \"\"\"\n",
        "    SW = aircraft['wing']['S']\n",
        "    MAC = aircraft['wing']['CMA']\n",
        "    tC = aircraft['wing']['thickness']\n",
        "    density = weight_estimation_data['engineering_materials']['Aerospace aluminum']['Density (kg/m^3)']\n",
        "    AR = aircraft['wing']['AR']\n",
        "    n_max = 2.5 # maximum load factor\n",
        "    nult = 1.5 * n_max # Ultimate project load factor \n",
        "    sweep = aircraft['wing']['sweep']\n",
        "    taper_ratio = aircraft['wing']['taper_ratio']\n",
        "\n",
        "    K_p = min(weight_estimation_data[\"wing_structural_conditions\"][\"Transport, cargo, airliner (engines attached to the wing)\"]['K_p'])\n",
        "\n",
        "    W_w = (K_p * SW * MAC * (tC) * density * (AR * nult/np.cos(sweep))**0.6 * (taper_ratio)**0.04) * g\n",
        "    return W_w\n",
        "\n",
        "def calculate_horizontal_tail_weight(aircraft, weight_estimation_data):\n",
        "    \"\"\"\n",
        "    Estimate wing weight, based on geometry characteristics and statistical models from M. Saadrey, \"Aircraft Design - Systems Engineers Approach (2012)\"\n",
        "    \"\"\"\n",
        "    SHT = aircraft['ht']['S']\n",
        "    MACHT = aircraft['ht']['CMA']\n",
        "    tC_HT = aircraft['ht']['thickness']\n",
        "    density = weight_estimation_data['engineering_materials']['Aerospace aluminum']['Density (kg/m^3)']\n",
        "    ARHT = aircraft['ht']['AR']\n",
        "    sweepHT = aircraft['ht']['sweep']\n",
        "    taper_ratioHT = aircraft['ht']['taper_ratio']\n",
        "    Ce_CT = aircraft['ht']['Ce_Ct']\n",
        "    VH = aircraft['ht']['VH']\n",
        "    g = 9.81\n",
        "\n",
        "    K_HT = min(weight_estimation_data['tail_configurations']['Transport T-tail']['K_HT'])\n",
        "\n",
        "    W_HT = (SHT * MACHT * tC_HT * density * K_HT * (ARHT / np.cos(sweepHT))**0.6 * taper_ratioHT**0.04 * VH**0.3 * Ce_CT**0.4) * g\n",
        "    return W_HT\n",
        "\n",
        "def calculate_vertical_tail_weight(aircraft, weight_estimation_data):\n",
        "    \"\"\"\n",
        "    Estimate wing weight, based on geometry characteristics and statistical models from M. Saadrey, \"Aircraft Design - Systems Engineers Approach (2012)\"\n",
        "    \"\"\"\n",
        "    SVT = aircraft['vt']['S']\n",
        "    MACVT = aircraft['vt']['CMA']\n",
        "    tC_VT = aircraft['vt']['thickness']\n",
        "    density = weight_estimation_data['engineering_materials']['Aerospace aluminum']['Density (kg/m^3)']\n",
        "    ARVT = aircraft['vt']['AR']\n",
        "    sweepVT = aircraft['vt']['sweep']\n",
        "    taper_ratioVT = aircraft['vt']['taper_ratio']\n",
        "    Cr_Cv = aircraft['vt']['Cr_Cv']\n",
        "    VV = aircraft['vt']['VV']\n",
        "    g = 9.81\n",
        "\n",
        "    K_VT = min(weight_estimation_data['tail_configurations']['Transport T-tail']['K_VT'])\n",
        "\n",
        "    W_HT = (SVT * MACVT * tC_VT * density * K_VT * (ARVT / np.cos(sweepVT))**0.6 * taper_ratioVT**0.04 * VV**0.3 * Cr_Cv**0.4) * g\n",
        "    return W_HT\n",
        "\n",
        "\n",
        "def calculate_fuselage_weight(aircraft, weight_estimation_data):\n",
        "    \"\"\"\n",
        "    Estimate wing weight, based on geometry characteristics and statistical models from M. Saadrey, \"Aircraft Design - Systems Engineers Approach (2012)\"\n",
        "    \"\"\"\n",
        "    \n",
        "    Lf = aircraft['fus']['length']\n",
        "    D = aircraft['fus']['diameter']\n",
        "    density = weight_estimation_data['engineering_materials']['Aerospace aluminum']['Density (kg/m^3)']\n",
        "    Kpf = min(weight_estimation_data['kf_values']['Transport, cargo, airliner']['K_f'])\n",
        "    g = 9.81\n",
        "    \n",
        "    K_inlet = 1 # no crew at transport section\n",
        "    \n",
        "    W_fus = Lf * D**2 * density * Kpf * K_inlet * g\n",
        "    \n",
        "    return W_fus\n",
        "\n",
        "\n",
        "def calculate_landing_gear_weight(aircraft, weight_estimation_data):\n",
        "    \"\"\"\n",
        "    Estimate wing weight, based on geometry characteristics and statistical models from M. Saadrey, \"Aircraft Design - Systems Engineers Approach (2012)\"\n",
        "    \"\"\"\n",
        "    \n",
        "    Kl = 1 # Don't need a aircraft carrier with hook\n",
        "    if aircraft['landing gear']['retractable']:\n",
        "        Kret = 1.07 \n",
        "    else:\n",
        "        Kret = 1\n",
        "    Hlg = aircraft['landing gear']['height']\n",
        "    b = aircraft['wing']['b']\n",
        "    Wl = aircraft['definitions']['WL']\n",
        "    n_max = 2.5 # maximum load factor\n",
        "    nult = 1.5 * n_max # Ultimate project load factor \n",
        "    g = 9.81\n",
        "    \n",
        "    Klg = min(weight_estimation_data['klg_values']['Transport, cargo, airliner']['K_LG'])\n",
        "    \n",
        "    W_lg = Kl * Kret * Klg * Wl * Hlg / b * nult**0.2 * g\n",
        "    \n",
        "    return W_lg\n",
        "\n",
        "\n",
        "def calculate_engine_weight(aircraft):\n",
        "    \"\"\"\n",
        "    Estimate wing weight, based on geometry characteristics and statistical models from M. Saadrey, \"Aircraft Design - Systems Engineers Approach (2012)\"\n",
        "    \"\"\"\n",
        "    \n",
        "    W_e = aircraft['engine']['weight']\n",
        "    N_e = aircraft['engine']['number_of_engines']\n",
        "    K_e = 3 # SI units \n",
        "    g = 9.81\n",
        "    \n",
        "    W_e_ins = W_e**0.9 * K_e * N_e * g\n",
        "    \n",
        "    return W_e_ins\n",
        "\n",
        "\n",
        "def calculate_fuel_weight(aircraft):\n",
        "    \"\"\"\n",
        "    Estimate wing weight, based on geometry characteristics and statistical models from M. Saadrey, \"Aircraft Design - Systems Engineers Approach (2012)\"\n",
        "    \"\"\"\n",
        "    \n",
        "    if aircraft['engine']['number_of_engines']>1:\n",
        "        Kfs = 4.5\n",
        "        nfs = 0.6\n",
        "    else:\n",
        "        Kfs = 2\n",
        "        nfs = 2/3\n",
        "    \n",
        "    g = 9.81\n",
        "    \n",
        "    W_f = aircraft['definitions']['W_fuel'] / units.lbm2kg(1) # W fuel in lb\n",
        "    rho_f = 5.87 # lb/gal, aviation gas\n",
        "    \n",
        "    \n",
        "    Wfs = Kfs * (W_f/rho_f)**nfs # lb\n",
        "    \n",
        "    return units.lbm2kg(Wfs) * g"
      ]
    },
    {
      "cell_type": "code",
      "execution_count": 296,
      "metadata": {},
      "outputs": [],
      "source": [
        "aircraft['wing']['W'] = calculate_wing_weight(aircraft, weight_estimation_data)\n",
        "aircraft['ht']['W'] = calculate_horizontal_tail_weight(aircraft, weight_estimation_data)\n",
        "aircraft['vt']['W'] = calculate_vertical_tail_weight(aircraft, weight_estimation_data)\n",
        "aircraft['fus']['W'] = calculate_fuselage_weight(aircraft, weight_estimation_data)\n",
        "W_fuel_system = calculate_fuel_weight(aircraft)\n",
        "aircraft['engine']['W'] = calculate_engine_weight(aircraft)\n",
        "aircraft['landing gear']['W'] = calculate_landing_gear_weight(aircraft, weight_estimation_data)\n",
        "\n",
        "W_misc = (730/7650) * aircraft['definitions']['MTOW'] * 9.81 \n",
        "# based on instruments weight for Beech 760"
      ]
    },
    {
      "cell_type": "code",
      "execution_count": 297,
      "metadata": {},
      "outputs": [
        {
          "name": "stdout",
          "output_type": "stream",
          "text": [
            "Component: engine\n",
            "Mass: 799.6 Kg\n",
            "Component: wing\n",
            "Mass: 853.2 Kg\n",
            "Component: ht\n",
            "Mass: 167.2 Kg\n",
            "Component: vt\n",
            "Mass: 194.6 Kg\n",
            "Component: fus\n",
            "Mass: 824.7 Kg\n",
            "Component: landing gear\n",
            "Mass: 280.8 Kg\n",
            "Componet: Fuel system\n",
            "Mass: 101.1 Kg\n",
            "Miscelanea mass: 822.4 Kg\n",
            "Total Empty weight mass: 4043.6 Kg\n",
            "Empty weight + fuel: 6949.8 Kg\n",
            "MTOW estimated: 8618.4 Kg\n"
          ]
        }
      ],
      "source": [
        "weights = []\n",
        "\n",
        "for component in aircraft.keys():\n",
        "    if component not in ['definitions', 'missao']:\n",
        "        weights.append(aircraft[component]['W'])\n",
        "        print(f'Component: {component}')\n",
        "        print(f'Mass: {aircraft[component][\"W\"]/9.81:.1f} Kg')\n",
        "\n",
        "weights.append(W_fuel_system)\n",
        "weights.append(W_misc)\n",
        "print('Componet: Fuel system')\n",
        "print(f'Mass: {W_fuel_system/9.81:.1f} Kg')\n",
        "print(f'Miscelanea mass: {W_misc/9.81:.1f} Kg')\n",
        "\n",
        "\n",
        "masses = np.array(weights) / 9.81\n",
        "\n",
        "We_final = sum(masses)\n",
        "\n",
        "print(f'Total Empty weight mass: {We_final:.1f} Kg')\n",
        "print(f'Empty weight + fuel: {aircraft[\"definitions\"][\"W_empty\"] + aircraft[\"definitions\"][\"W_fuel\"]:.1f} Kg')\n",
        "print(f'MTOW estimated: {aircraft[\"definitions\"][\"MTOW\"]} Kg')"
      ]
    },
    {
      "cell_type": "code",
      "execution_count": 298,
      "metadata": {},
      "outputs": [],
      "source": [
        "columns = [\"component name\", \"weight\", \"x_position\", \"X_moment\", \n",
        "           \"z_position\", \"Z_moment\"]\n",
        "\n",
        "data = {col: [] for col in columns}\n",
        "\n",
        "data[\"component name\"] = [\"wing\", \"ht\", \"vt\", \"fus\", \"landing gear - principal\", \"landing gear - front\", \"engine\", \"fuel\", \"miscelanea\"]\n",
        "\n",
        "x_datum = 9.5\n",
        "z_datum = -0.627\n",
        "\n",
        "x_wing = -0.329\n",
        "x_fus = 0.33\n",
        "x_ht = -7.612\n",
        "x_vt = -6.808\n",
        "x_tp_principal = -2.172 + 7\n",
        "x_tp_frontal = 5.757 + 2\n",
        "x_misc = np.mean([x_wing, x_fus]) + 1\n",
        "\n",
        "z_wing = 1.339\n",
        "z_fus = 0.01\n",
        "z_ht = 4.05\n",
        "z_vt = 2.35\n",
        "z_tp_principal = -2.005 \n",
        "z_tp_frontal = -1.936 \n",
        "z_misc = np.mean([z_wing, z_fus]) \n",
        "\n",
        "data[\"x_position\"] = x_datum - np.array([x_wing, x_ht, x_vt, x_fus, x_tp_principal, x_tp_frontal, x_wing + 0.4, x_wing, x_misc])\n",
        "data[\"z_position\"] = - z_datum + np.array([z_wing, z_ht, z_vt, z_fus, z_tp_principal, z_tp_frontal, z_wing, z_wing, z_misc])\n",
        "\n",
        "data['weight'] = [aircraft['wing']['W'], aircraft['ht']['W'], aircraft['vt']['W'], aircraft['fus']['W'],\n",
        "                  2/3 * aircraft['landing gear']['W'], 1/3 * aircraft['landing gear']['W'], aircraft['engine']['W'],\n",
        "                  aircraft['definitions']['W_fuel'] + W_fuel_system, W_misc]\n",
        "\n",
        "data['X_moment'] = data[\"weight\"] * data[\"x_position\"]\n",
        "data['Z_moment'] = data[\"weight\"] * data[\"z_position\"]\n",
        "\n",
        "# for col in columns[2:]:\n",
        "#   data[col] = [0] * 8  # Fill with 8 zeros for each column\n",
        "\n",
        "df_weights = pd.DataFrame(data, columns=columns)"
      ]
    },
    {
      "cell_type": "code",
      "execution_count": 299,
      "metadata": {},
      "outputs": [
        {
          "data": {
            "text/html": [
              "<div>\n",
              "<style scoped>\n",
              "    .dataframe tbody tr th:only-of-type {\n",
              "        vertical-align: middle;\n",
              "    }\n",
              "\n",
              "    .dataframe tbody tr th {\n",
              "        vertical-align: top;\n",
              "    }\n",
              "\n",
              "    .dataframe thead th {\n",
              "        text-align: right;\n",
              "    }\n",
              "</style>\n",
              "<table border=\"1\" class=\"dataframe\">\n",
              "  <thead>\n",
              "    <tr style=\"text-align: right;\">\n",
              "      <th></th>\n",
              "      <th>component name</th>\n",
              "      <th>weight</th>\n",
              "      <th>x_position</th>\n",
              "      <th>X_moment</th>\n",
              "      <th>z_position</th>\n",
              "      <th>Z_moment</th>\n",
              "    </tr>\n",
              "  </thead>\n",
              "  <tbody>\n",
              "    <tr>\n",
              "      <th>0</th>\n",
              "      <td>wing</td>\n",
              "      <td>8369.717737</td>\n",
              "      <td>9.8290</td>\n",
              "      <td>82265.955641</td>\n",
              "      <td>1.9660</td>\n",
              "      <td>16454.865072</td>\n",
              "    </tr>\n",
              "    <tr>\n",
              "      <th>1</th>\n",
              "      <td>ht</td>\n",
              "      <td>1640.195354</td>\n",
              "      <td>17.1120</td>\n",
              "      <td>28067.022895</td>\n",
              "      <td>4.6770</td>\n",
              "      <td>7671.193670</td>\n",
              "    </tr>\n",
              "    <tr>\n",
              "      <th>2</th>\n",
              "      <td>vt</td>\n",
              "      <td>1909.370603</td>\n",
              "      <td>16.3080</td>\n",
              "      <td>31138.015798</td>\n",
              "      <td>2.9770</td>\n",
              "      <td>5684.196286</td>\n",
              "    </tr>\n",
              "    <tr>\n",
              "      <th>3</th>\n",
              "      <td>fus</td>\n",
              "      <td>8090.171622</td>\n",
              "      <td>9.1700</td>\n",
              "      <td>74186.873774</td>\n",
              "      <td>0.6370</td>\n",
              "      <td>5153.439323</td>\n",
              "    </tr>\n",
              "    <tr>\n",
              "      <th>4</th>\n",
              "      <td>landing gear - principal</td>\n",
              "      <td>1836.459771</td>\n",
              "      <td>4.6720</td>\n",
              "      <td>8579.940051</td>\n",
              "      <td>-1.3780</td>\n",
              "      <td>-2530.641565</td>\n",
              "    </tr>\n",
              "    <tr>\n",
              "      <th>5</th>\n",
              "      <td>landing gear - front</td>\n",
              "      <td>918.229886</td>\n",
              "      <td>1.7430</td>\n",
              "      <td>1600.474691</td>\n",
              "      <td>-1.3090</td>\n",
              "      <td>-1201.962920</td>\n",
              "    </tr>\n",
              "    <tr>\n",
              "      <th>6</th>\n",
              "      <td>engine</td>\n",
              "      <td>7843.766896</td>\n",
              "      <td>9.4290</td>\n",
              "      <td>73958.878060</td>\n",
              "      <td>1.9660</td>\n",
              "      <td>15420.845717</td>\n",
              "    </tr>\n",
              "    <tr>\n",
              "      <th>7</th>\n",
              "      <td>fuel</td>\n",
              "      <td>2770.560633</td>\n",
              "      <td>9.8290</td>\n",
              "      <td>27231.840461</td>\n",
              "      <td>1.9660</td>\n",
              "      <td>5446.922204</td>\n",
              "    </tr>\n",
              "    <tr>\n",
              "      <th>8</th>\n",
              "      <td>miscelanea</td>\n",
              "      <td>8067.836329</td>\n",
              "      <td>8.4995</td>\n",
              "      <td>68572.574882</td>\n",
              "      <td>1.3015</td>\n",
              "      <td>10500.288983</td>\n",
              "    </tr>\n",
              "  </tbody>\n",
              "</table>\n",
              "</div>"
            ],
            "text/plain": [
              "             component name       weight  x_position      X_moment  \\\n",
              "0                      wing  8369.717737      9.8290  82265.955641   \n",
              "1                        ht  1640.195354     17.1120  28067.022895   \n",
              "2                        vt  1909.370603     16.3080  31138.015798   \n",
              "3                       fus  8090.171622      9.1700  74186.873774   \n",
              "4  landing gear - principal  1836.459771      4.6720   8579.940051   \n",
              "5      landing gear - front   918.229886      1.7430   1600.474691   \n",
              "6                    engine  7843.766896      9.4290  73958.878060   \n",
              "7                      fuel  2770.560633      9.8290  27231.840461   \n",
              "8                miscelanea  8067.836329      8.4995  68572.574882   \n",
              "\n",
              "   z_position      Z_moment  \n",
              "0      1.9660  16454.865072  \n",
              "1      4.6770   7671.193670  \n",
              "2      2.9770   5684.196286  \n",
              "3      0.6370   5153.439323  \n",
              "4     -1.3780  -2530.641565  \n",
              "5     -1.3090  -1201.962920  \n",
              "6      1.9660  15420.845717  \n",
              "7      1.9660   5446.922204  \n",
              "8      1.3015  10500.288983  "
            ]
          },
          "execution_count": 299,
          "metadata": {},
          "output_type": "execute_result"
        }
      ],
      "source": [
        "df_weights"
      ]
    },
    {
      "cell_type": "code",
      "execution_count": 300,
      "metadata": {},
      "outputs": [
        {
          "name": "stdout",
          "output_type": "stream",
          "text": [
            "9.972921204148406\n",
            "1.5780937075633055\n"
          ]
        }
      ],
      "source": [
        "X_cg = sum(df_weights[\"X_moment\"]) / We_final / 9.81\n",
        "Z_cg = sum(df_weights[\"Z_moment\"]) / We_final / 9.81\n",
        "\n",
        "print(X_cg)\n",
        "print(Z_cg)"
      ]
    },
    {
      "cell_type": "markdown",
      "metadata": {},
      "source": [
        "Em relação ao centro da aeronave em z, mas no nariz do avião em x:"
      ]
    },
    {
      "cell_type": "code",
      "execution_count": 301,
      "metadata": {},
      "outputs": [
        {
          "name": "stdout",
          "output_type": "stream",
          "text": [
            "9.972921204148406\n",
            "0.9510937075633055\n"
          ]
        }
      ],
      "source": [
        "print(X_cg)\n",
        "print(Z_cg + z_datum)"
      ]
    },
    {
      "cell_type": "markdown",
      "metadata": {},
      "source": [
        "Em relação ao CA da asa:"
      ]
    },
    {
      "cell_type": "code",
      "execution_count": 303,
      "metadata": {},
      "outputs": [
        {
          "data": {
            "text/plain": [
              "1778.7361959610216"
            ]
          },
          "execution_count": 303,
          "metadata": {},
          "output_type": "execute_result"
        }
      ],
      "source": [
        "aircraft[\"definitions\"][\"W_fuel\"]"
      ]
    },
    {
      "cell_type": "code",
      "execution_count": 294,
      "metadata": {},
      "outputs": [
        {
          "name": "stdout",
          "output_type": "stream",
          "text": [
            "0.10217487307608349\n",
            "-0.2028085423896197\n"
          ]
        }
      ],
      "source": [
        "x_ca_airplane = x_datum - x_wing\n",
        "z_ca_airplane = z_wing - z_datum\n",
        "\n",
        "cma = aircraft[\"wing\"][\"CMA\"]\n",
        "\n",
        "xcg = (X_cg - x_ca_airplane) / cma\n",
        "zcg = (Z_cg - z_ca_airplane) / cma\n",
        "\n",
        "print(xcg)\n",
        "print(zcg)"
      ]
    },
    {
      "cell_type": "markdown",
      "metadata": {
        "id": "Te2EdZaxM0G4"
      },
      "source": [
        "# Estabilidade e controle"
      ]
    },
    {
      "cell_type": "code",
      "execution_count": null,
      "metadata": {
        "id": "l2bp-wZINMAn"
      },
      "outputs": [],
      "source": []
    },
    {
      "cell_type": "markdown",
      "metadata": {
        "id": "ueftj8iwNLXv"
      },
      "source": [
        "# Parâmetros de desempenho"
      ]
    },
    {
      "cell_type": "markdown",
      "metadata": {},
      "source": [
        "Efetuar cálculos das seguintes etapas da missão:\n",
        "\n",
        "1) Decolagem\n",
        "2) Subida\n",
        "3) Cruzeiro\n",
        "4) Descida\n",
        "5) Loiter\n",
        "6) Pouso\n",
        "7) Curvas\n",
        "\n",
        "Objetiva-se, com isso, [...]"
      ]
    },
    {
      "cell_type": "markdown",
      "metadata": {},
      "source": [
        "Inicialmente, acrescentam-se dados à variável *aircraft*, necessários para os cálculos de desempenho preliminar da aeronave."
      ]
    },
    {
      "cell_type": "markdown",
      "metadata": {
        "id": "gg2CctLyRUWu"
      },
      "source": [
        "# Relações úteis sem uma seão específica ainda\n",
        "\n",
        "Achei muita coisa foda no Gudmundsson, e pra não ter que ficar caçando toda vez, vou colocando aqui.\n",
        "\n",
        "Modelo de decolagem:\n",
        "\n",
        "![image.png](data:image/png;base64,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)\n",
        "\n",
        "**Legenda:**\n",
        "\n",
        "* $h_{tr}$: Altura total\n",
        "* $h_{obut}$: Altura inicial\n",
        "* $h_{TR}$: Altura final\n",
        "* $R$: Raio da trajetória\n",
        "* $e_{cimb}$: Energia cinética de subida\n",
        "* $\\theta_{cfrob}$: Ângulo de descida\n",
        "* $h_{vhst}$: Altura da pista de pouso\n",
        "* $h_{chut}$: Altura da chuteira\n",
        "* $h_{n}$: Altura final\n",
        "* $S_{m}$: Distância percorrida na fase de subida\n",
        "* $S$: Distância total percorrida\n",
        "* $S_{re}$: Distância percorrida na fase de descida\n",
        "* $VTR$: Velocidade terminal\n",
        "* $S_{\\_hot}$: Distância horizontal percorrida\n",
        "* Sabit: Constante\n"
      ]
    },
    {
      "cell_type": "markdown",
      "metadata": {
        "id": "-ILv_1feTSFa"
      },
      "source": [
        "$V_{TR}$ = velocidade de transição = 1.15 $V_{stall}$\n",
        "$V_{LOF}$ = velocidade de Lift off = 1.1 $V_{stall}$\n",
        "\n",
        "$V_v$ = Velocidade vertical = V sin$\\theta$ = $\\dfrac{TV - DV}{W}$\n",
        "\n",
        "$sin\\theta = \\dfrac{T}{W} - \\dfrac{1}{L/D}$\n",
        "\n"
      ]
    }
  ],
  "metadata": {
    "colab": {
      "provenance": []
    },
    "kernelspec": {
      "display_name": "Python 3",
      "language": "python",
      "name": "python3"
    },
    "language_info": {
      "codemirror_mode": {
        "name": "ipython",
        "version": 3
      },
      "file_extension": ".py",
      "mimetype": "text/x-python",
      "name": "python",
      "nbconvert_exporter": "python",
      "pygments_lexer": "ipython3",
      "version": "3.8.10"
    }
  },
  "nbformat": 4,
  "nbformat_minor": 0
}
